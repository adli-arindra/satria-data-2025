{
 "cells": [
  {
   "cell_type": "markdown",
   "id": "060f868f",
   "metadata": {},
   "source": [
    "## RUN ALL BUAT DOWNLOAD VIDEO"
   ]
  },
  {
   "cell_type": "code",
   "execution_count": 28,
   "id": "01fc4c6d",
   "metadata": {},
   "outputs": [],
   "source": [
    "import os\n",
    "import pandas as pd\n",
    "import requests\n",
    "import instaloader\n",
    "from instaloader import Post\n",
    "from urllib.parse import urlparse"
   ]
  },
  {
   "cell_type": "code",
   "execution_count": 29,
   "id": "1fd8a97d",
   "metadata": {},
   "outputs": [],
   "source": [
    "train = pd.read_csv(\"datatrain.csv\")\n",
    "test = pd.read_csv(\"datatest.csv\")"
   ]
  },
  {
   "cell_type": "code",
   "execution_count": 30,
   "id": "40c817e1",
   "metadata": {},
   "outputs": [],
   "source": [
    "def download_ig(url: str, target_path: str):\n",
    "    # create instaloader context\n",
    "    L = instaloader.Instaloader(\n",
    "        download_comments=False,\n",
    "        save_metadata=False,\n",
    "        post_metadata_txt_pattern=\"\"\n",
    "    )\n",
    "\n",
    "    # extract shortcode safely\n",
    "    segments = [s for s in urlparse(url).path.split(\"/\") if s]\n",
    "    if len(segments) < 2:\n",
    "        raise ValueError(\"Invalid Instagram URL\")\n",
    "\n",
    "    shortcode = segments[1]\n",
    "    post = instaloader.Post.from_shortcode(L.context, shortcode)\n",
    "\n",
    "    if not post.is_video:\n",
    "        raise ValueError(\"This post is not a video\")\n",
    "\n",
    "    # download video directly\n",
    "    video_url = post.video_url\n",
    "    r = requests.get(video_url, stream=True)\n",
    "    r.raise_for_status()\n",
    "\n",
    "    with open(target_path, \"wb\") as f:\n",
    "        for chunk in r.iter_content(chunk_size=8192):\n",
    "            f.write(chunk)\n",
    "\n",
    "    print(f\"Downloaded video to {target_path}\")\n"
   ]
  },
  {
   "cell_type": "code",
   "execution_count": 31,
   "id": "b68a925f",
   "metadata": {},
   "outputs": [],
   "source": [
    "import re\n",
    "import gdown\n",
    "\n",
    "def download_gdrive(url: str, target_path: str):\n",
    "    # Try to extract the file ID from Google Drive URL\n",
    "    match = re.search(r\"/d/([a-zA-Z0-9_-]+)\", url)\n",
    "    if not match:\n",
    "        raise ValueError(\"Invalid Google Drive URL\")\n",
    "\n",
    "    file_id = match.group(1)\n",
    "    gdown.download(f\"https://drive.google.com/uc?id={file_id}\", target_path, quiet=False)\n",
    "\n",
    "    print(f\"Downloaded Google Drive file to {target_path}\")"
   ]
  },
  {
   "cell_type": "markdown",
   "id": "351c7b0f",
   "metadata": {},
   "source": [
    "# Train"
   ]
  },
  {
   "cell_type": "code",
   "execution_count": 34,
   "id": "9be9a4fb",
   "metadata": {},
   "outputs": [
    {
     "name": "stderr",
     "output_type": "stream",
     "text": [
      "JSON Query to graphql/query: 403 Forbidden when accessing https://www.instagram.com/graphql/query [retrying; skip with ^C]\n"
     ]
    },
    {
     "name": "stdout",
     "output_type": "stream",
     "text": [
      "Downloaded video to data/train\\Joy_792.mp4\n"
     ]
    },
    {
     "name": "stderr",
     "output_type": "stream",
     "text": [
      "JSON Query to graphql/query: 403 Forbidden when accessing https://www.instagram.com/graphql/query [retrying; skip with ^C]\n"
     ]
    },
    {
     "name": "stdout",
     "output_type": "stream",
     "text": [
      "Downloaded video to data/train\\Proud_793.mp4\n"
     ]
    },
    {
     "name": "stderr",
     "output_type": "stream",
     "text": [
      "JSON Query to graphql/query: 403 Forbidden when accessing https://www.instagram.com/graphql/query [retrying; skip with ^C]\n"
     ]
    },
    {
     "name": "stdout",
     "output_type": "stream",
     "text": [
      "Downloaded video to data/train\\Joy_794.mp4\n"
     ]
    },
    {
     "name": "stderr",
     "output_type": "stream",
     "text": [
      "JSON Query to graphql/query: 403 Forbidden when accessing https://www.instagram.com/graphql/query [retrying; skip with ^C]\n"
     ]
    },
    {
     "name": "stdout",
     "output_type": "stream",
     "text": [
      "Downloaded video to data/train\\Trust_795.mp4\n"
     ]
    },
    {
     "name": "stderr",
     "output_type": "stream",
     "text": [
      "JSON Query to graphql/query: 403 Forbidden when accessing https://www.instagram.com/graphql/query [retrying; skip with ^C]\n"
     ]
    },
    {
     "name": "stdout",
     "output_type": "stream",
     "text": [
      "failed downloading https://www.instagram.com/reel/DMVRWpmTqUC/?igsh=dTEwdm9wdzk0aXgy -> Surprise_796.mp4 | Fetching Post metadata failed.\n"
     ]
    },
    {
     "name": "stderr",
     "output_type": "stream",
     "text": [
      "JSON Query to graphql/query: 403 Forbidden when accessing https://www.instagram.com/graphql/query [retrying; skip with ^C]\n"
     ]
    },
    {
     "name": "stdout",
     "output_type": "stream",
     "text": [
      "Downloaded video to data/train\\Proud_797.mp4\n"
     ]
    },
    {
     "name": "stderr",
     "output_type": "stream",
     "text": [
      "JSON Query to graphql/query: 403 Forbidden when accessing https://www.instagram.com/graphql/query [retrying; skip with ^C]\n"
     ]
    },
    {
     "name": "stdout",
     "output_type": "stream",
     "text": [
      "Downloaded video to data/train\\Proud_798.mp4\n"
     ]
    },
    {
     "name": "stderr",
     "output_type": "stream",
     "text": [
      "JSON Query to graphql/query: 403 Forbidden when accessing https://www.instagram.com/graphql/query [retrying; skip with ^C]\n"
     ]
    },
    {
     "name": "stdout",
     "output_type": "stream",
     "text": [
      "Downloaded video to data/train\\Surprise_799.mp4\n"
     ]
    },
    {
     "name": "stderr",
     "output_type": "stream",
     "text": [
      "JSON Query to graphql/query: 403 Forbidden when accessing https://www.instagram.com/graphql/query [retrying; skip with ^C]\n"
     ]
    },
    {
     "name": "stdout",
     "output_type": "stream",
     "text": [
      "Downloaded video to data/train\\Surprise_800.mp4\n"
     ]
    },
    {
     "name": "stderr",
     "output_type": "stream",
     "text": [
      "JSON Query to graphql/query: 403 Forbidden when accessing https://www.instagram.com/graphql/query [retrying; skip with ^C]\n"
     ]
    },
    {
     "name": "stdout",
     "output_type": "stream",
     "text": [
      "Downloaded video to data/train\\Proud_801.mp4\n"
     ]
    },
    {
     "name": "stderr",
     "output_type": "stream",
     "text": [
      "JSON Query to graphql/query: 403 Forbidden when accessing https://www.instagram.com/graphql/query [retrying; skip with ^C]\n"
     ]
    },
    {
     "name": "stdout",
     "output_type": "stream",
     "text": [
      "Downloaded video to data/train\\Anger_802.mp4\n"
     ]
    },
    {
     "name": "stderr",
     "output_type": "stream",
     "text": [
      "JSON Query to graphql/query: 403 Forbidden when accessing https://www.instagram.com/graphql/query [retrying; skip with ^C]\n"
     ]
    },
    {
     "name": "stdout",
     "output_type": "stream",
     "text": [
      "Downloaded video to data/train\\Surprise_803.mp4\n"
     ]
    }
   ],
   "source": [
    "import os\n",
    "\n",
    "train_path = \"data/train\"\n",
    "os.makedirs(train_path, exist_ok=True)\n",
    "\n",
    "for i, row in train.iterrows():\n",
    "    if (i <= 790): continue\n",
    "    target_path = os.path.join(train_path, f\"{row.emotion}_{row.id}.mp4\")\n",
    "\n",
    "    try:\n",
    "        if \"insta\" in row.video:\n",
    "            download_ig(row.video, target_path)\n",
    "        elif \"drive\" in row.video:\n",
    "            download_gdrive(row.video, target_path)\n",
    "        else:\n",
    "            print(f\"Unknown source: {row.video}\")\n",
    "            continue\n",
    "\n",
    "    except Exception as e:\n",
    "        print(f\"failed downloading {row.video} -> {row.emotion}_{row.id}.mp4 | {e}\")\n"
   ]
  },
  {
   "cell_type": "markdown",
   "id": "53bba85f",
   "metadata": {},
   "source": [
    "# Test"
   ]
  },
  {
   "cell_type": "code",
   "execution_count": 37,
   "id": "0267639e",
   "metadata": {},
   "outputs": [
    {
     "name": "stderr",
     "output_type": "stream",
     "text": [
      "JSON Query to graphql/query: 403 Forbidden when accessing https://www.instagram.com/graphql/query [retrying; skip with ^C]\n"
     ]
    },
    {
     "name": "stdout",
     "output_type": "stream",
     "text": [
      "Downloaded video to data/test\\1.mp4\n"
     ]
    },
    {
     "name": "stderr",
     "output_type": "stream",
     "text": [
      "JSON Query to graphql/query: 403 Forbidden when accessing https://www.instagram.com/graphql/query [retrying; skip with ^C]\n"
     ]
    },
    {
     "name": "stdout",
     "output_type": "stream",
     "text": [
      "Downloaded video to data/test\\2.mp4\n"
     ]
    },
    {
     "name": "stderr",
     "output_type": "stream",
     "text": [
      "JSON Query to graphql/query: 403 Forbidden when accessing https://www.instagram.com/graphql/query [retrying; skip with ^C]\n"
     ]
    },
    {
     "name": "stdout",
     "output_type": "stream",
     "text": [
      "Downloaded video to data/test\\3.mp4\n"
     ]
    },
    {
     "name": "stderr",
     "output_type": "stream",
     "text": [
      "JSON Query to graphql/query: 403 Forbidden when accessing https://www.instagram.com/graphql/query [retrying; skip with ^C]\n"
     ]
    },
    {
     "name": "stdout",
     "output_type": "stream",
     "text": [
      "Downloaded video to data/test\\4.mp4\n"
     ]
    },
    {
     "name": "stderr",
     "output_type": "stream",
     "text": [
      "JSON Query to graphql/query: 403 Forbidden when accessing https://www.instagram.com/graphql/query [retrying; skip with ^C]\n"
     ]
    },
    {
     "name": "stdout",
     "output_type": "stream",
     "text": [
      "Downloaded video to data/test\\5.mp4\n"
     ]
    },
    {
     "name": "stderr",
     "output_type": "stream",
     "text": [
      "JSON Query to graphql/query: 403 Forbidden when accessing https://www.instagram.com/graphql/query [retrying; skip with ^C]\n"
     ]
    },
    {
     "name": "stdout",
     "output_type": "stream",
     "text": [
      "Downloaded video to data/test\\6.mp4\n"
     ]
    },
    {
     "name": "stderr",
     "output_type": "stream",
     "text": [
      "JSON Query to graphql/query: 403 Forbidden when accessing https://www.instagram.com/graphql/query [retrying; skip with ^C]\n"
     ]
    },
    {
     "name": "stdout",
     "output_type": "stream",
     "text": [
      "Downloaded video to data/test\\7.mp4\n"
     ]
    },
    {
     "name": "stderr",
     "output_type": "stream",
     "text": [
      "JSON Query to graphql/query: 403 Forbidden when accessing https://www.instagram.com/graphql/query [retrying; skip with ^C]\n"
     ]
    },
    {
     "name": "stdout",
     "output_type": "stream",
     "text": [
      "Downloaded video to data/test\\8.mp4\n"
     ]
    },
    {
     "name": "stderr",
     "output_type": "stream",
     "text": [
      "JSON Query to graphql/query: 403 Forbidden when accessing https://www.instagram.com/graphql/query [retrying; skip with ^C]\n"
     ]
    },
    {
     "name": "stdout",
     "output_type": "stream",
     "text": [
      "Downloaded video to data/test\\9.mp4\n"
     ]
    },
    {
     "name": "stderr",
     "output_type": "stream",
     "text": [
      "JSON Query to graphql/query: 403 Forbidden when accessing https://www.instagram.com/graphql/query [retrying; skip with ^C]\n"
     ]
    },
    {
     "name": "stdout",
     "output_type": "stream",
     "text": [
      "Downloaded video to data/test\\10.mp4\n"
     ]
    },
    {
     "name": "stderr",
     "output_type": "stream",
     "text": [
      "JSON Query to graphql/query: 403 Forbidden when accessing https://www.instagram.com/graphql/query [retrying; skip with ^C]\n"
     ]
    },
    {
     "name": "stdout",
     "output_type": "stream",
     "text": [
      "Downloaded video to data/test\\11.mp4\n"
     ]
    },
    {
     "name": "stderr",
     "output_type": "stream",
     "text": [
      "JSON Query to graphql/query: 403 Forbidden when accessing https://www.instagram.com/graphql/query [retrying; skip with ^C]\n"
     ]
    },
    {
     "name": "stdout",
     "output_type": "stream",
     "text": [
      "Downloaded video to data/test\\12.mp4\n"
     ]
    },
    {
     "name": "stderr",
     "output_type": "stream",
     "text": [
      "JSON Query to graphql/query: 403 Forbidden when accessing https://www.instagram.com/graphql/query [retrying; skip with ^C]\n"
     ]
    },
    {
     "name": "stdout",
     "output_type": "stream",
     "text": [
      "Downloaded video to data/test\\13.mp4\n"
     ]
    },
    {
     "name": "stderr",
     "output_type": "stream",
     "text": [
      "JSON Query to graphql/query: 403 Forbidden when accessing https://www.instagram.com/graphql/query [retrying; skip with ^C]\n"
     ]
    },
    {
     "name": "stdout",
     "output_type": "stream",
     "text": [
      "Downloaded video to data/test\\14.mp4\n"
     ]
    },
    {
     "name": "stderr",
     "output_type": "stream",
     "text": [
      "JSON Query to graphql/query: 403 Forbidden when accessing https://www.instagram.com/graphql/query [retrying; skip with ^C]\n"
     ]
    },
    {
     "name": "stdout",
     "output_type": "stream",
     "text": [
      "Downloaded video to data/test\\15.mp4\n"
     ]
    },
    {
     "name": "stderr",
     "output_type": "stream",
     "text": [
      "JSON Query to graphql/query: 403 Forbidden when accessing https://www.instagram.com/graphql/query [retrying; skip with ^C]\n"
     ]
    },
    {
     "name": "stdout",
     "output_type": "stream",
     "text": [
      "Downloaded video to data/test\\16.mp4\n"
     ]
    },
    {
     "name": "stderr",
     "output_type": "stream",
     "text": [
      "JSON Query to graphql/query: 403 Forbidden when accessing https://www.instagram.com/graphql/query [retrying; skip with ^C]\n"
     ]
    },
    {
     "name": "stdout",
     "output_type": "stream",
     "text": [
      "Downloaded video to data/test\\17.mp4\n"
     ]
    },
    {
     "name": "stderr",
     "output_type": "stream",
     "text": [
      "Downloading...\n",
      "From: https://drive.google.com/uc?id=12YBpn9zWc_3FfDadbmlip4s98_GjqUGY\n",
      "To: c:\\Users\\Adli\\Desktop\\ilegil\\bintangkecilmama\\satria-data-2025\\data\\test\\18.mp4\n",
      "100%|██████████| 8.51M/8.51M [00:00<00:00, 11.7MB/s]\n"
     ]
    },
    {
     "name": "stdout",
     "output_type": "stream",
     "text": [
      "Downloaded Google Drive file to data/test\\18.mp4\n"
     ]
    },
    {
     "name": "stderr",
     "output_type": "stream",
     "text": [
      "JSON Query to graphql/query: 403 Forbidden when accessing https://www.instagram.com/graphql/query [retrying; skip with ^C]\n"
     ]
    },
    {
     "name": "stdout",
     "output_type": "stream",
     "text": [
      "Downloaded video to data/test\\19.mp4\n"
     ]
    },
    {
     "name": "stderr",
     "output_type": "stream",
     "text": [
      "JSON Query to graphql/query: 403 Forbidden when accessing https://www.instagram.com/graphql/query [retrying; skip with ^C]\n"
     ]
    },
    {
     "name": "stdout",
     "output_type": "stream",
     "text": [
      "Downloaded video to data/test\\20.mp4\n"
     ]
    },
    {
     "name": "stderr",
     "output_type": "stream",
     "text": [
      "Downloading...\n",
      "From: https://drive.google.com/uc?id=1ymuQGbpxBhsDT62QSXfa6R1067HMAJlS\n",
      "To: c:\\Users\\Adli\\Desktop\\ilegil\\bintangkecilmama\\satria-data-2025\\data\\test\\21.mp4\n",
      "100%|██████████| 12.1M/12.1M [00:01<00:00, 8.25MB/s]\n"
     ]
    },
    {
     "name": "stdout",
     "output_type": "stream",
     "text": [
      "Downloaded Google Drive file to data/test\\21.mp4\n"
     ]
    },
    {
     "name": "stderr",
     "output_type": "stream",
     "text": [
      "JSON Query to graphql/query: 403 Forbidden when accessing https://www.instagram.com/graphql/query [retrying; skip with ^C]\n"
     ]
    },
    {
     "name": "stdout",
     "output_type": "stream",
     "text": [
      "Downloaded video to data/test\\22.mp4\n",
      "failed downloading https://drive.google.com/file/d/17YcFgqkUgJNK0QRSYzS3TCNl4forkLY9/view?usp=share_link -> 23.mp4 | Failed to retrieve file url:\n",
      "\n",
      "\tCannot retrieve the public link of the file. You may need to change\n",
      "\tthe permission to 'Anyone with the link', or have had many accesses.\n",
      "\tCheck FAQ in https://github.com/wkentaro/gdown?tab=readme-ov-file#faq.\n",
      "\n",
      "You may still be able to access the file from the browser:\n",
      "\n",
      "\thttps://drive.google.com/uc?id=17YcFgqkUgJNK0QRSYzS3TCNl4forkLY9\n",
      "\n",
      "but Gdown can't. Please check connections and permissions.\n"
     ]
    },
    {
     "name": "stderr",
     "output_type": "stream",
     "text": [
      "JSON Query to graphql/query: 403 Forbidden when accessing https://www.instagram.com/graphql/query [retrying; skip with ^C]\n"
     ]
    },
    {
     "name": "stdout",
     "output_type": "stream",
     "text": [
      "Downloaded video to data/test\\24.mp4\n"
     ]
    },
    {
     "name": "stderr",
     "output_type": "stream",
     "text": [
      "JSON Query to graphql/query: 403 Forbidden when accessing https://www.instagram.com/graphql/query [retrying; skip with ^C]\n"
     ]
    },
    {
     "name": "stdout",
     "output_type": "stream",
     "text": [
      "Downloaded video to data/test\\25.mp4\n"
     ]
    },
    {
     "name": "stderr",
     "output_type": "stream",
     "text": [
      "Downloading...\n",
      "From: https://drive.google.com/uc?id=12YBpn9zWc_3FfDadbmlip4s98_GjqUGY\n",
      "To: c:\\Users\\Adli\\Desktop\\ilegil\\bintangkecilmama\\satria-data-2025\\data\\test\\26.mp4\n",
      "100%|██████████| 8.51M/8.51M [00:00<00:00, 13.4MB/s]\n"
     ]
    },
    {
     "name": "stdout",
     "output_type": "stream",
     "text": [
      "Downloaded Google Drive file to data/test\\26.mp4\n"
     ]
    },
    {
     "name": "stderr",
     "output_type": "stream",
     "text": [
      "Downloading...\n",
      "From: https://drive.google.com/uc?id=12YBpn9zWc_3FfDadbmlip4s98_GjqUGY\n",
      "To: c:\\Users\\Adli\\Desktop\\ilegil\\bintangkecilmama\\satria-data-2025\\data\\test\\27.mp4\n",
      "100%|██████████| 8.51M/8.51M [00:00<00:00, 10.6MB/s]\n"
     ]
    },
    {
     "name": "stdout",
     "output_type": "stream",
     "text": [
      "Downloaded Google Drive file to data/test\\27.mp4\n"
     ]
    },
    {
     "name": "stderr",
     "output_type": "stream",
     "text": [
      "Downloading...\n",
      "From: https://drive.google.com/uc?id=12YBpn9zWc_3FfDadbmlip4s98_GjqUGY\n",
      "To: c:\\Users\\Adli\\Desktop\\ilegil\\bintangkecilmama\\satria-data-2025\\data\\test\\28.mp4\n",
      "100%|██████████| 8.51M/8.51M [00:00<00:00, 12.4MB/s]\n"
     ]
    },
    {
     "name": "stdout",
     "output_type": "stream",
     "text": [
      "Downloaded Google Drive file to data/test\\28.mp4\n"
     ]
    },
    {
     "name": "stderr",
     "output_type": "stream",
     "text": [
      "JSON Query to graphql/query: 403 Forbidden when accessing https://www.instagram.com/graphql/query [retrying; skip with ^C]\n"
     ]
    },
    {
     "name": "stdout",
     "output_type": "stream",
     "text": [
      "Downloaded video to data/test\\29.mp4\n"
     ]
    },
    {
     "name": "stderr",
     "output_type": "stream",
     "text": [
      "JSON Query to graphql/query: 403 Forbidden when accessing https://www.instagram.com/graphql/query [retrying; skip with ^C]\n"
     ]
    },
    {
     "name": "stdout",
     "output_type": "stream",
     "text": [
      "Downloaded video to data/test\\30.mp4\n"
     ]
    },
    {
     "name": "stderr",
     "output_type": "stream",
     "text": [
      "JSON Query to graphql/query: 403 Forbidden when accessing https://www.instagram.com/graphql/query [retrying; skip with ^C]\n"
     ]
    },
    {
     "name": "stdout",
     "output_type": "stream",
     "text": [
      "Downloaded video to data/test\\31.mp4\n"
     ]
    },
    {
     "name": "stderr",
     "output_type": "stream",
     "text": [
      "JSON Query to graphql/query: 403 Forbidden when accessing https://www.instagram.com/graphql/query [retrying; skip with ^C]\n"
     ]
    },
    {
     "name": "stdout",
     "output_type": "stream",
     "text": [
      "Downloaded video to data/test\\32.mp4\n"
     ]
    },
    {
     "name": "stderr",
     "output_type": "stream",
     "text": [
      "JSON Query to graphql/query: 403 Forbidden when accessing https://www.instagram.com/graphql/query [retrying; skip with ^C]\n"
     ]
    },
    {
     "name": "stdout",
     "output_type": "stream",
     "text": [
      "Downloaded video to data/test\\33.mp4\n"
     ]
    },
    {
     "name": "stderr",
     "output_type": "stream",
     "text": [
      "JSON Query to graphql/query: 403 Forbidden when accessing https://www.instagram.com/graphql/query [retrying; skip with ^C]\n"
     ]
    },
    {
     "name": "stdout",
     "output_type": "stream",
     "text": [
      "Downloaded video to data/test\\34.mp4\n"
     ]
    },
    {
     "name": "stderr",
     "output_type": "stream",
     "text": [
      "JSON Query to graphql/query: 403 Forbidden when accessing https://www.instagram.com/graphql/query [retrying; skip with ^C]\n"
     ]
    },
    {
     "name": "stdout",
     "output_type": "stream",
     "text": [
      "Downloaded video to data/test\\35.mp4\n"
     ]
    },
    {
     "name": "stderr",
     "output_type": "stream",
     "text": [
      "JSON Query to graphql/query: 403 Forbidden when accessing https://www.instagram.com/graphql/query [retrying; skip with ^C]\n"
     ]
    },
    {
     "name": "stdout",
     "output_type": "stream",
     "text": [
      "Downloaded video to data/test\\36.mp4\n"
     ]
    },
    {
     "name": "stderr",
     "output_type": "stream",
     "text": [
      "JSON Query to graphql/query: 403 Forbidden when accessing https://www.instagram.com/graphql/query [retrying; skip with ^C]\n"
     ]
    },
    {
     "name": "stdout",
     "output_type": "stream",
     "text": [
      "Downloaded video to data/test\\37.mp4\n"
     ]
    },
    {
     "name": "stderr",
     "output_type": "stream",
     "text": [
      "JSON Query to graphql/query: 403 Forbidden when accessing https://www.instagram.com/graphql/query [retrying; skip with ^C]\n"
     ]
    },
    {
     "name": "stdout",
     "output_type": "stream",
     "text": [
      "failed downloading https://www.instagram.com/moladin_id/reel/DH0pH5vSZQy/ -> 38.mp4 | Fetching Post metadata failed.\n"
     ]
    },
    {
     "name": "stderr",
     "output_type": "stream",
     "text": [
      "JSON Query to graphql/query: 403 Forbidden when accessing https://www.instagram.com/graphql/query [retrying; skip with ^C]\n"
     ]
    },
    {
     "name": "stdout",
     "output_type": "stream",
     "text": [
      "failed downloading https://www.instagram.com/moladin_id/reel/DKcEvw-yNJd/ -> 39.mp4 | Fetching Post metadata failed.\n"
     ]
    },
    {
     "name": "stderr",
     "output_type": "stream",
     "text": [
      "JSON Query to graphql/query: 403 Forbidden when accessing https://www.instagram.com/graphql/query [retrying; skip with ^C]\n"
     ]
    },
    {
     "name": "stdout",
     "output_type": "stream",
     "text": [
      "Downloaded video to data/test\\40.mp4\n"
     ]
    },
    {
     "name": "stderr",
     "output_type": "stream",
     "text": [
      "JSON Query to graphql/query: 403 Forbidden when accessing https://www.instagram.com/graphql/query [retrying; skip with ^C]\n"
     ]
    },
    {
     "name": "stdout",
     "output_type": "stream",
     "text": [
      "Downloaded video to data/test\\41.mp4\n"
     ]
    },
    {
     "name": "stderr",
     "output_type": "stream",
     "text": [
      "JSON Query to graphql/query: 403 Forbidden when accessing https://www.instagram.com/graphql/query [retrying; skip with ^C]\n"
     ]
    },
    {
     "name": "stdout",
     "output_type": "stream",
     "text": [
      "Downloaded video to data/test\\42.mp4\n"
     ]
    },
    {
     "name": "stderr",
     "output_type": "stream",
     "text": [
      "JSON Query to graphql/query: 403 Forbidden when accessing https://www.instagram.com/graphql/query [retrying; skip with ^C]\n"
     ]
    },
    {
     "name": "stdout",
     "output_type": "stream",
     "text": [
      "Downloaded video to data/test\\43.mp4\n"
     ]
    },
    {
     "name": "stderr",
     "output_type": "stream",
     "text": [
      "JSON Query to graphql/query: 403 Forbidden when accessing https://www.instagram.com/graphql/query [retrying; skip with ^C]\n"
     ]
    },
    {
     "name": "stdout",
     "output_type": "stream",
     "text": [
      "Downloaded video to data/test\\44.mp4\n"
     ]
    },
    {
     "name": "stderr",
     "output_type": "stream",
     "text": [
      "JSON Query to graphql/query: 403 Forbidden when accessing https://www.instagram.com/graphql/query [retrying; skip with ^C]\n"
     ]
    },
    {
     "name": "stdout",
     "output_type": "stream",
     "text": [
      "Downloaded video to data/test\\45.mp4\n"
     ]
    },
    {
     "name": "stderr",
     "output_type": "stream",
     "text": [
      "JSON Query to graphql/query: 403 Forbidden when accessing https://www.instagram.com/graphql/query [retrying; skip with ^C]\n"
     ]
    },
    {
     "name": "stdout",
     "output_type": "stream",
     "text": [
      "Downloaded video to data/test\\46.mp4\n"
     ]
    },
    {
     "name": "stderr",
     "output_type": "stream",
     "text": [
      "JSON Query to graphql/query: 403 Forbidden when accessing https://www.instagram.com/graphql/query [retrying; skip with ^C]\n"
     ]
    },
    {
     "name": "stdout",
     "output_type": "stream",
     "text": [
      "Downloaded video to data/test\\47.mp4\n"
     ]
    },
    {
     "name": "stderr",
     "output_type": "stream",
     "text": [
      "JSON Query to graphql/query: 403 Forbidden when accessing https://www.instagram.com/graphql/query [retrying; skip with ^C]\n"
     ]
    },
    {
     "name": "stdout",
     "output_type": "stream",
     "text": [
      "Downloaded video to data/test\\48.mp4\n"
     ]
    },
    {
     "name": "stderr",
     "output_type": "stream",
     "text": [
      "JSON Query to graphql/query: 403 Forbidden when accessing https://www.instagram.com/graphql/query [retrying; skip with ^C]\n"
     ]
    },
    {
     "name": "stdout",
     "output_type": "stream",
     "text": [
      "Downloaded video to data/test\\49.mp4\n"
     ]
    },
    {
     "name": "stderr",
     "output_type": "stream",
     "text": [
      "JSON Query to graphql/query: 403 Forbidden when accessing https://www.instagram.com/graphql/query [retrying; skip with ^C]\n"
     ]
    },
    {
     "name": "stdout",
     "output_type": "stream",
     "text": [
      "Downloaded video to data/test\\50.mp4\n"
     ]
    },
    {
     "name": "stderr",
     "output_type": "stream",
     "text": [
      "JSON Query to graphql/query: 403 Forbidden when accessing https://www.instagram.com/graphql/query [retrying; skip with ^C]\n"
     ]
    },
    {
     "name": "stdout",
     "output_type": "stream",
     "text": [
      "Downloaded video to data/test\\51.mp4\n"
     ]
    },
    {
     "name": "stderr",
     "output_type": "stream",
     "text": [
      "JSON Query to graphql/query: 403 Forbidden when accessing https://www.instagram.com/graphql/query [retrying; skip with ^C]\n"
     ]
    },
    {
     "name": "stdout",
     "output_type": "stream",
     "text": [
      "Downloaded video to data/test\\52.mp4\n"
     ]
    },
    {
     "name": "stderr",
     "output_type": "stream",
     "text": [
      "JSON Query to graphql/query: 403 Forbidden when accessing https://www.instagram.com/graphql/query [retrying; skip with ^C]\n"
     ]
    },
    {
     "name": "stdout",
     "output_type": "stream",
     "text": [
      "Downloaded video to data/test\\53.mp4\n"
     ]
    },
    {
     "name": "stderr",
     "output_type": "stream",
     "text": [
      "JSON Query to graphql/query: 403 Forbidden when accessing https://www.instagram.com/graphql/query [retrying; skip with ^C]\n"
     ]
    },
    {
     "name": "stdout",
     "output_type": "stream",
     "text": [
      "Downloaded video to data/test\\54.mp4\n"
     ]
    },
    {
     "name": "stderr",
     "output_type": "stream",
     "text": [
      "JSON Query to graphql/query: 403 Forbidden when accessing https://www.instagram.com/graphql/query [retrying; skip with ^C]\n"
     ]
    },
    {
     "name": "stdout",
     "output_type": "stream",
     "text": [
      "Downloaded video to data/test\\55.mp4\n"
     ]
    },
    {
     "name": "stderr",
     "output_type": "stream",
     "text": [
      "JSON Query to graphql/query: 403 Forbidden when accessing https://www.instagram.com/graphql/query [retrying; skip with ^C]\n"
     ]
    },
    {
     "name": "stdout",
     "output_type": "stream",
     "text": [
      "Downloaded video to data/test\\56.mp4\n"
     ]
    },
    {
     "name": "stderr",
     "output_type": "stream",
     "text": [
      "JSON Query to graphql/query: 403 Forbidden when accessing https://www.instagram.com/graphql/query [retrying; skip with ^C]\n"
     ]
    },
    {
     "name": "stdout",
     "output_type": "stream",
     "text": [
      "Downloaded video to data/test\\57.mp4\n",
      "failed downloading https://drive.google.com/file/d/1-OawfKdJ7ozcradDR4rxu4QCWtd93qY5/view?usp=share_link -> 58.mp4 | HTTPSConnectionPool(host='doc-14-1k-docs.googleusercontent.com', port=443): Max retries exceeded with url: /docs/securesc/h9q4r09v4l7fg3rmcoiglvriksclasck/ae9g3d2jtferm812euniqgim0s4l83aa/1756111425000/15265607866957016412/09610521287002288905Z/1-OawfKdJ7ozcradDR4rxu4QCWtd93qY5?uuid=75dc562e-1a61-4226-970f-66745b176f62 (Caused by NameResolutionError(\"<urllib3.connection.HTTPSConnection object at 0x00000187B82C8550>: Failed to resolve 'doc-14-1k-docs.googleusercontent.com' ([Errno 11002] getaddrinfo failed)\"))\n"
     ]
    },
    {
     "name": "stderr",
     "output_type": "stream",
     "text": [
      "Downloading...\n",
      "From: https://drive.google.com/uc?id=1UI8IJ19DQkZuTaUtLVtAI19jGMIDJuO_\n",
      "To: c:\\Users\\Adli\\Desktop\\ilegil\\bintangkecilmama\\satria-data-2025\\data\\test\\59.mp4\n",
      "100%|██████████| 6.71M/6.71M [00:00<00:00, 11.2MB/s]\n"
     ]
    },
    {
     "name": "stdout",
     "output_type": "stream",
     "text": [
      "Downloaded Google Drive file to data/test\\59.mp4\n",
      "failed downloading https://drive.google.com/file/d/1nbo5CnW50clco9ZFd6AE4R6KUwPTYpLA/view?usp=share_link -> 60.mp4 | HTTPSConnectionPool(host='doc-0c-1k-docs.googleusercontent.com', port=443): Max retries exceeded with url: /docs/securesc/h9q4r09v4l7fg3rmcoiglvriksclasck/10rq0svdokvpt6a8re8u3i1hkkjpo52q/1756111425000/15265607866957016412/09610521287002288905Z/1nbo5CnW50clco9ZFd6AE4R6KUwPTYpLA?uuid=04c90d34-6134-4170-a44c-e787b5ba4842 (Caused by NameResolutionError(\"<urllib3.connection.HTTPSConnection object at 0x00000187B83CECD0>: Failed to resolve 'doc-0c-1k-docs.googleusercontent.com' ([Errno 11002] getaddrinfo failed)\"))\n"
     ]
    },
    {
     "name": "stderr",
     "output_type": "stream",
     "text": [
      "Downloading...\n",
      "From: https://drive.google.com/uc?id=1c_1boySTaI5v-wbdEknkClIcsC7emkyC\n",
      "To: c:\\Users\\Adli\\Desktop\\ilegil\\bintangkecilmama\\satria-data-2025\\data\\test\\61.mp4\n",
      "100%|██████████| 26.6M/26.6M [00:01<00:00, 16.2MB/s]\n"
     ]
    },
    {
     "name": "stdout",
     "output_type": "stream",
     "text": [
      "Downloaded Google Drive file to data/test\\61.mp4\n"
     ]
    },
    {
     "name": "stderr",
     "output_type": "stream",
     "text": [
      "Downloading...\n",
      "From: https://drive.google.com/uc?id=1WVED72q_6g4WpDZqMo0IxDVnNSU6Dho6\n",
      "To: c:\\Users\\Adli\\Desktop\\ilegil\\bintangkecilmama\\satria-data-2025\\data\\test\\62.mp4\n",
      "100%|██████████| 8.31M/8.31M [00:00<00:00, 10.9MB/s]\n"
     ]
    },
    {
     "name": "stdout",
     "output_type": "stream",
     "text": [
      "Downloaded Google Drive file to data/test\\62.mp4\n"
     ]
    },
    {
     "name": "stderr",
     "output_type": "stream",
     "text": [
      "Downloading...\n",
      "From: https://drive.google.com/uc?id=119B50bkS2zi3gTynJmDDzhs-1SAvI_FO\n",
      "To: c:\\Users\\Adli\\Desktop\\ilegil\\bintangkecilmama\\satria-data-2025\\data\\test\\63.mp4\n",
      "100%|██████████| 8.16M/8.16M [00:01<00:00, 8.10MB/s]\n"
     ]
    },
    {
     "name": "stdout",
     "output_type": "stream",
     "text": [
      "Downloaded Google Drive file to data/test\\63.mp4\n"
     ]
    },
    {
     "name": "stderr",
     "output_type": "stream",
     "text": [
      "Downloading...\n",
      "From: https://drive.google.com/uc?id=1QeVhYOzQQzWvmASX097fx9-xgSL8aYa9\n",
      "To: c:\\Users\\Adli\\Desktop\\ilegil\\bintangkecilmama\\satria-data-2025\\data\\test\\64.mp4\n",
      "100%|██████████| 19.2M/19.2M [00:01<00:00, 14.0MB/s]\n"
     ]
    },
    {
     "name": "stdout",
     "output_type": "stream",
     "text": [
      "Downloaded Google Drive file to data/test\\64.mp4\n"
     ]
    },
    {
     "name": "stderr",
     "output_type": "stream",
     "text": [
      "Downloading...\n",
      "From: https://drive.google.com/uc?id=1GrQmRkI5yNi6dRxBzSH2qvn1U8402Ah7\n",
      "To: c:\\Users\\Adli\\Desktop\\ilegil\\bintangkecilmama\\satria-data-2025\\data\\test\\65.mp4\n",
      "100%|██████████| 6.12M/6.12M [00:00<00:00, 12.7MB/s]\n"
     ]
    },
    {
     "name": "stdout",
     "output_type": "stream",
     "text": [
      "Downloaded Google Drive file to data/test\\65.mp4\n",
      "failed downloading https://drive.google.com/file/d/1jqczoDbEO2obyGra2bu7jwDcRgSOc4EW/view?usp=sharing -> 66.mp4 | HTTPSConnectionPool(host='doc-08-2s-docs.googleusercontent.com', port=443): Max retries exceeded with url: /docs/securesc/h9q4r09v4l7fg3rmcoiglvriksclasck/4ard3irg18vc94v1vg1pnnlmjglkmgg1/1756111500000/16843402203233413350/09610521287002288905Z/1jqczoDbEO2obyGra2bu7jwDcRgSOc4EW?uuid=b08a30af-76cc-4e31-b72d-42697887d38a (Caused by NameResolutionError(\"<urllib3.connection.HTTPSConnection object at 0x00000187B76E2150>: Failed to resolve 'doc-08-2s-docs.googleusercontent.com' ([Errno 11002] getaddrinfo failed)\"))\n"
     ]
    },
    {
     "name": "stderr",
     "output_type": "stream",
     "text": [
      "Downloading...\n",
      "From: https://drive.google.com/uc?id=16crPLW1l8Azp8EfeujohBtCOsdEcl3Qj\n",
      "To: c:\\Users\\Adli\\Desktop\\ilegil\\bintangkecilmama\\satria-data-2025\\data\\test\\67.mp4\n",
      "100%|██████████| 12.7M/12.7M [00:00<00:00, 13.4MB/s]\n"
     ]
    },
    {
     "name": "stdout",
     "output_type": "stream",
     "text": [
      "Downloaded Google Drive file to data/test\\67.mp4\n"
     ]
    },
    {
     "name": "stderr",
     "output_type": "stream",
     "text": [
      "Downloading...\n",
      "From: https://drive.google.com/uc?id=1hcdeL3zzC9e_9quh-eiZoBPpcuJwfqfi\n",
      "To: c:\\Users\\Adli\\Desktop\\ilegil\\bintangkecilmama\\satria-data-2025\\data\\test\\68.mp4\n",
      "100%|██████████| 31.6M/31.6M [00:01<00:00, 16.0MB/s]\n"
     ]
    },
    {
     "name": "stdout",
     "output_type": "stream",
     "text": [
      "Downloaded Google Drive file to data/test\\68.mp4\n"
     ]
    },
    {
     "name": "stderr",
     "output_type": "stream",
     "text": [
      "Downloading...\n",
      "From: https://drive.google.com/uc?id=10GXeqRPj5VjASvJUEoqiLjh7YFKilp6W\n",
      "To: c:\\Users\\Adli\\Desktop\\ilegil\\bintangkecilmama\\satria-data-2025\\data\\test\\69.mp4\n",
      "100%|██████████| 10.6M/10.6M [00:00<00:00, 13.0MB/s]\n"
     ]
    },
    {
     "name": "stdout",
     "output_type": "stream",
     "text": [
      "Downloaded Google Drive file to data/test\\69.mp4\n"
     ]
    },
    {
     "name": "stderr",
     "output_type": "stream",
     "text": [
      "Downloading...\n",
      "From: https://drive.google.com/uc?id=1ATqtIf4KqJYkRafQBVI3ESNlHHbR0W15\n",
      "To: c:\\Users\\Adli\\Desktop\\ilegil\\bintangkecilmama\\satria-data-2025\\data\\test\\70.mp4\n",
      "100%|██████████| 7.99M/7.99M [00:01<00:00, 6.34MB/s]\n"
     ]
    },
    {
     "name": "stdout",
     "output_type": "stream",
     "text": [
      "Downloaded Google Drive file to data/test\\70.mp4\n"
     ]
    },
    {
     "name": "stderr",
     "output_type": "stream",
     "text": [
      "Downloading...\n",
      "From: https://drive.google.com/uc?id=1PRC9-PllLNjuA6E070mqKYmOW7xnTT6e\n",
      "To: c:\\Users\\Adli\\Desktop\\ilegil\\bintangkecilmama\\satria-data-2025\\data\\test\\71.mp4\n",
      "100%|██████████| 9.86M/9.86M [00:01<00:00, 9.24MB/s]\n"
     ]
    },
    {
     "name": "stdout",
     "output_type": "stream",
     "text": [
      "Downloaded Google Drive file to data/test\\71.mp4\n",
      "failed downloading https://drive.google.com/file/d/1uKt0ZxUDJREefKMGeMMsaS3_IWOC3P1o/view?usp=sharing -> 72.mp4 | HTTPSConnectionPool(host='doc-10-2s-docs.googleusercontent.com', port=443): Max retries exceeded with url: /docs/securesc/h9q4r09v4l7fg3rmcoiglvriksclasck/5tiso30diksipjbo4ajt2dm3b5svkv5c/1756111500000/16843402203233413350/09610521287002288905Z/1uKt0ZxUDJREefKMGeMMsaS3_IWOC3P1o?uuid=8afe9a48-5bb6-4761-b642-a2ed05610272 (Caused by NameResolutionError(\"<urllib3.connection.HTTPSConnection object at 0x00000187B8286250>: Failed to resolve 'doc-10-2s-docs.googleusercontent.com' ([Errno 11002] getaddrinfo failed)\"))\n"
     ]
    },
    {
     "name": "stderr",
     "output_type": "stream",
     "text": [
      "Downloading...\n",
      "From: https://drive.google.com/uc?id=1YLZL1FogofxtQ1zJKcVNjTSxCKTN6jXz\n",
      "To: c:\\Users\\Adli\\Desktop\\ilegil\\bintangkecilmama\\satria-data-2025\\data\\test\\73.mp4\n",
      "100%|██████████| 3.34M/3.34M [00:00<00:00, 9.20MB/s]\n"
     ]
    },
    {
     "name": "stdout",
     "output_type": "stream",
     "text": [
      "Downloaded Google Drive file to data/test\\73.mp4\n"
     ]
    },
    {
     "name": "stderr",
     "output_type": "stream",
     "text": [
      "Downloading...\n",
      "From: https://drive.google.com/uc?id=1UB8tXY1CEoU1E3JuvqR6HSIHzT9cVAvH\n",
      "To: c:\\Users\\Adli\\Desktop\\ilegil\\bintangkecilmama\\satria-data-2025\\data\\test\\74.mp4\n",
      "100%|██████████| 5.87M/5.87M [00:00<00:00, 12.2MB/s]\n"
     ]
    },
    {
     "name": "stdout",
     "output_type": "stream",
     "text": [
      "Downloaded Google Drive file to data/test\\74.mp4\n"
     ]
    },
    {
     "name": "stderr",
     "output_type": "stream",
     "text": [
      "Downloading...\n",
      "From: https://drive.google.com/uc?id=1nw_h5-2cBUKGVYQ-bvYKcGlGNMNU0Ace\n",
      "To: c:\\Users\\Adli\\Desktop\\ilegil\\bintangkecilmama\\satria-data-2025\\data\\test\\75.mp4\n",
      "100%|██████████| 16.2M/16.2M [00:01<00:00, 11.0MB/s]\n"
     ]
    },
    {
     "name": "stdout",
     "output_type": "stream",
     "text": [
      "Downloaded Google Drive file to data/test\\75.mp4\n"
     ]
    },
    {
     "name": "stderr",
     "output_type": "stream",
     "text": [
      "Downloading...\n",
      "From: https://drive.google.com/uc?id=1j8J2v9fRDJV7_BPiDCq50SEGbuErKV99\n",
      "To: c:\\Users\\Adli\\Desktop\\ilegil\\bintangkecilmama\\satria-data-2025\\data\\test\\76.mp4\n",
      "100%|██████████| 9.15M/9.15M [00:00<00:00, 12.0MB/s]\n"
     ]
    },
    {
     "name": "stdout",
     "output_type": "stream",
     "text": [
      "Downloaded Google Drive file to data/test\\76.mp4\n"
     ]
    },
    {
     "name": "stderr",
     "output_type": "stream",
     "text": [
      "Downloading...\n",
      "From: https://drive.google.com/uc?id=19V-AnERnUCKVbRmFM1U9UGmV7DagQFhL\n",
      "To: c:\\Users\\Adli\\Desktop\\ilegil\\bintangkecilmama\\satria-data-2025\\data\\test\\77.mp4\n",
      "100%|██████████| 12.7M/12.7M [00:00<00:00, 16.0MB/s]\n"
     ]
    },
    {
     "name": "stdout",
     "output_type": "stream",
     "text": [
      "Downloaded Google Drive file to data/test\\77.mp4\n"
     ]
    },
    {
     "name": "stderr",
     "output_type": "stream",
     "text": [
      "Downloading...\n",
      "From: https://drive.google.com/uc?id=16SaYRXtDM9dBkgy9c0esEkPw_UNpMLF5\n",
      "To: c:\\Users\\Adli\\Desktop\\ilegil\\bintangkecilmama\\satria-data-2025\\data\\test\\78.mp4\n",
      "100%|██████████| 12.7M/12.7M [00:00<00:00, 13.7MB/s]\n"
     ]
    },
    {
     "name": "stdout",
     "output_type": "stream",
     "text": [
      "Downloaded Google Drive file to data/test\\78.mp4\n"
     ]
    },
    {
     "name": "stderr",
     "output_type": "stream",
     "text": [
      "Downloading...\n",
      "From: https://drive.google.com/uc?id=1Z1dQGUr1PjpzPrtCS1mdNnJ54kaks3RA\n",
      "To: c:\\Users\\Adli\\Desktop\\ilegil\\bintangkecilmama\\satria-data-2025\\data\\test\\79.mp4\n",
      "100%|██████████| 12.7M/12.7M [00:01<00:00, 11.4MB/s]\n"
     ]
    },
    {
     "name": "stdout",
     "output_type": "stream",
     "text": [
      "Downloaded Google Drive file to data/test\\79.mp4\n"
     ]
    },
    {
     "name": "stderr",
     "output_type": "stream",
     "text": [
      "Downloading...\n",
      "From: https://drive.google.com/uc?id=1qafYENW_uZGnahRbSTvb3iOYv01wYmm5\n",
      "To: c:\\Users\\Adli\\Desktop\\ilegil\\bintangkecilmama\\satria-data-2025\\data\\test\\80.mp4\n",
      "100%|██████████| 6.01M/6.01M [00:00<00:00, 8.55MB/s]\n"
     ]
    },
    {
     "name": "stdout",
     "output_type": "stream",
     "text": [
      "Downloaded Google Drive file to data/test\\80.mp4\n"
     ]
    },
    {
     "name": "stderr",
     "output_type": "stream",
     "text": [
      "Downloading...\n",
      "From: https://drive.google.com/uc?id=15hAOu9ZkqsMUx6-Zk-jN3OC_vm-4kaig\n",
      "To: c:\\Users\\Adli\\Desktop\\ilegil\\bintangkecilmama\\satria-data-2025\\data\\test\\81.mp4\n",
      "100%|██████████| 10.0M/10.0M [00:00<00:00, 14.5MB/s]\n"
     ]
    },
    {
     "name": "stdout",
     "output_type": "stream",
     "text": [
      "Downloaded Google Drive file to data/test\\81.mp4\n"
     ]
    },
    {
     "name": "stderr",
     "output_type": "stream",
     "text": [
      "JSON Query to graphql/query: 403 Forbidden when accessing https://www.instagram.com/graphql/query [retrying; skip with ^C]\n"
     ]
    },
    {
     "name": "stdout",
     "output_type": "stream",
     "text": [
      "Downloaded video to data/test\\82.mp4\n"
     ]
    },
    {
     "name": "stderr",
     "output_type": "stream",
     "text": [
      "Downloading...\n",
      "From: https://drive.google.com/uc?id=16WW1YRA0NtmMptCht5jS6Ya7nWdNrRcg\n",
      "To: c:\\Users\\Adli\\Desktop\\ilegil\\bintangkecilmama\\satria-data-2025\\data\\test\\83.mp4\n",
      "100%|██████████| 7.54M/7.54M [00:01<00:00, 7.30MB/s]\n"
     ]
    },
    {
     "name": "stdout",
     "output_type": "stream",
     "text": [
      "Downloaded Google Drive file to data/test\\83.mp4\n"
     ]
    },
    {
     "name": "stderr",
     "output_type": "stream",
     "text": [
      "Downloading...\n",
      "From: https://drive.google.com/uc?id=1kzfBs5I_n0a0yCwEh5PdNY5GgLqQRcez\n",
      "To: c:\\Users\\Adli\\Desktop\\ilegil\\bintangkecilmama\\satria-data-2025\\data\\test\\84.mp4\n",
      "100%|██████████| 7.68M/7.68M [00:01<00:00, 7.65MB/s]\n"
     ]
    },
    {
     "name": "stdout",
     "output_type": "stream",
     "text": [
      "Downloaded Google Drive file to data/test\\84.mp4\n"
     ]
    },
    {
     "name": "stderr",
     "output_type": "stream",
     "text": [
      "Downloading...\n",
      "From: https://drive.google.com/uc?id=10ETQNxneJf4Q185_btWMVVZz1n3CBwp5\n",
      "To: c:\\Users\\Adli\\Desktop\\ilegil\\bintangkecilmama\\satria-data-2025\\data\\test\\85.mp4\n",
      "100%|██████████| 15.1M/15.1M [00:01<00:00, 11.5MB/s]\n"
     ]
    },
    {
     "name": "stdout",
     "output_type": "stream",
     "text": [
      "Downloaded Google Drive file to data/test\\85.mp4\n"
     ]
    },
    {
     "name": "stderr",
     "output_type": "stream",
     "text": [
      "Downloading...\n",
      "From: https://drive.google.com/uc?id=1rMIe5I873yBTKrmAlSZTjUoV4eZkZhas\n",
      "To: c:\\Users\\Adli\\Desktop\\ilegil\\bintangkecilmama\\satria-data-2025\\data\\test\\86.mp4\n",
      "100%|██████████| 8.49M/8.49M [00:00<00:00, 10.3MB/s]\n"
     ]
    },
    {
     "name": "stdout",
     "output_type": "stream",
     "text": [
      "Downloaded Google Drive file to data/test\\86.mp4\n",
      "failed downloading https://drive.google.com/file/d/1k3qHBJISNZIr2N_uhRGZK5b4CP5JfaIv/view?usp=drive_link -> 87.mp4 | HTTPSConnectionPool(host='doc-0k-30-docs.googleusercontent.com', port=443): Max retries exceeded with url: /docs/securesc/h9q4r09v4l7fg3rmcoiglvriksclasck/dff871jg9beppbmn9up2cqsicorlnl6v/1756111575000/12893852486449308436/09610521287002288905Z/1k3qHBJISNZIr2N_uhRGZK5b4CP5JfaIv?uuid=f1cb9fe3-2611-411c-a5ae-2fd746992d71 (Caused by NameResolutionError(\"<urllib3.connection.HTTPSConnection object at 0x00000187B8301B10>: Failed to resolve 'doc-0k-30-docs.googleusercontent.com' ([Errno 11002] getaddrinfo failed)\"))\n",
      "failed downloading https://drive.google.com/file/d/1scUxliWkEMlJAtMjyX4_zf1hpTzc-11m/view?usp=drive_link -> 88.mp4 | HTTPSConnectionPool(host='doc-14-30-docs.googleusercontent.com', port=443): Max retries exceeded with url: /docs/securesc/h9q4r09v4l7fg3rmcoiglvriksclasck/ii6geltr4unmvvbqpr9nt5436ve11l7h/1756111575000/12893852486449308436/09610521287002288905Z/1scUxliWkEMlJAtMjyX4_zf1hpTzc-11m?uuid=cf7a8114-bf1e-46c3-b4d4-5dc335056c01 (Caused by NameResolutionError(\"<urllib3.connection.HTTPSConnection object at 0x00000187B8399A10>: Failed to resolve 'doc-14-30-docs.googleusercontent.com' ([Errno 11002] getaddrinfo failed)\"))\n",
      "failed downloading https://drive.google.com/file/d/1wCIyDhTVr-SO6Z6hY5XMdn-gEgmRcamD/view?usp=drive_link -> 89.mp4 | HTTPSConnectionPool(host='doc-0o-30-docs.googleusercontent.com', port=443): Max retries exceeded with url: /docs/securesc/h9q4r09v4l7fg3rmcoiglvriksclasck/2tcnbi0g7cc6u6jdqrepqtbs15n6ph3g/1756111575000/12893852486449308436/09610521287002288905Z/1wCIyDhTVr-SO6Z6hY5XMdn-gEgmRcamD?uuid=29dfa4a9-eb65-4a3e-8e23-648bb3499daa (Caused by NameResolutionError(\"<urllib3.connection.HTTPSConnection object at 0x00000187B6D6E390>: Failed to resolve 'doc-0o-30-docs.googleusercontent.com' ([Errno 11002] getaddrinfo failed)\"))\n"
     ]
    },
    {
     "name": "stderr",
     "output_type": "stream",
     "text": [
      "JSON Query to graphql/query: 403 Forbidden when accessing https://www.instagram.com/graphql/query [retrying; skip with ^C]\n"
     ]
    },
    {
     "name": "stdout",
     "output_type": "stream",
     "text": [
      "failed downloading https://www.instagram.com/otomotif_tv/reel/DMWrRymh0tx/ -> 90.mp4 | Fetching Post metadata failed.\n"
     ]
    },
    {
     "name": "stderr",
     "output_type": "stream",
     "text": [
      "JSON Query to graphql/query: 403 Forbidden when accessing https://www.instagram.com/graphql/query [retrying; skip with ^C]\n"
     ]
    },
    {
     "name": "stdout",
     "output_type": "stream",
     "text": [
      "failed downloading https://www.instagram.com/otomotif_tv/reel/DLlwAYFhEDG/ -> 91.mp4 | Fetching Post metadata failed.\n"
     ]
    },
    {
     "name": "stderr",
     "output_type": "stream",
     "text": [
      "JSON Query to graphql/query: HTTPSConnectionPool(host='www.instagram.com', port=443): Max retries exceeded with url: /graphql/query (Caused by NameResolutionError(\"<urllib3.connection.HTTPSConnection object at 0x00000187B84139D0>: Failed to resolve 'www.instagram.com' ([Errno 11002] getaddrinfo failed)\")) [retrying; skip with ^C]\n",
      "JSON Query to graphql/query: HTTPSConnectionPool(host='www.instagram.com', port=443): Max retries exceeded with url: /graphql/query?variables=%7B%22shortcode%22%3A%22reel%22%7D&doc_id=8845758582119845&server_timestamps=true (Caused by NameResolutionError(\"<urllib3.connection.HTTPSConnection object at 0x00000187B8425FD0>: Failed to resolve 'www.instagram.com' ([Errno 11002] getaddrinfo failed)\")) [retrying; skip with ^C]\n"
     ]
    },
    {
     "name": "stdout",
     "output_type": "stream",
     "text": [
      "failed downloading https://www.instagram.com/otomotif_tv/reel/DJtG-oUylM-/ -> 92.mp4 | JSON Query to graphql/query: HTTPSConnectionPool(host='www.instagram.com', port=443): Max retries exceeded with url: /graphql/query?variables=%7B%22shortcode%22%3A%22reel%22%7D&doc_id=8845758582119845&server_timestamps=true (Caused by NameResolutionError(\"<urllib3.connection.HTTPSConnection object at 0x00000187B8427450>: Failed to resolve 'www.instagram.com' ([Errno 11002] getaddrinfo failed)\"))\n"
     ]
    },
    {
     "name": "stderr",
     "output_type": "stream",
     "text": [
      "JSON Query to graphql/query: HTTPSConnectionPool(host='www.instagram.com', port=443): Max retries exceeded with url: /graphql/query (Caused by NameResolutionError(\"<urllib3.connection.HTTPSConnection object at 0x00000187B8401950>: Failed to resolve 'www.instagram.com' ([Errno 11002] getaddrinfo failed)\")) [retrying; skip with ^C]\n",
      "JSON Query to graphql/query: HTTPSConnectionPool(host='www.instagram.com', port=443): Max retries exceeded with url: /graphql/query?variables=%7B%22shortcode%22%3A%22reel%22%7D&doc_id=8845758582119845&server_timestamps=true (Caused by NameResolutionError(\"<urllib3.connection.HTTPSConnection object at 0x00000187B8402090>: Failed to resolve 'www.instagram.com' ([Errno 11002] getaddrinfo failed)\")) [retrying; skip with ^C]\n"
     ]
    },
    {
     "name": "stdout",
     "output_type": "stream",
     "text": [
      "failed downloading https://www.instagram.com/otomotifweekly/reel/DMWrRymh0tx/ -> 93.mp4 | Fetching Post metadata failed.\n"
     ]
    },
    {
     "name": "stderr",
     "output_type": "stream",
     "text": [
      "JSON Query to graphql/query: 403 Forbidden when accessing https://www.instagram.com/graphql/query [retrying; skip with ^C]\n"
     ]
    },
    {
     "name": "stdout",
     "output_type": "stream",
     "text": [
      "failed downloading https://www.instagram.com/jagat.review/reel/DM9aQ7jxWd-/ -> 94.mp4 | Fetching Post metadata failed.\n"
     ]
    },
    {
     "name": "stderr",
     "output_type": "stream",
     "text": [
      "JSON Query to graphql/query: 403 Forbidden when accessing https://www.instagram.com/graphql/query [retrying; skip with ^C]\n"
     ]
    },
    {
     "name": "stdout",
     "output_type": "stream",
     "text": [
      "failed downloading https://www.instagram.com/jagat.review/reel/DMUJzKiR8WN/ -> 95.mp4 | Fetching Post metadata failed.\n"
     ]
    },
    {
     "name": "stderr",
     "output_type": "stream",
     "text": [
      "JSON Query to graphql/query: 403 Forbidden when accessing https://www.instagram.com/graphql/query [retrying; skip with ^C]\n"
     ]
    },
    {
     "name": "stdout",
     "output_type": "stream",
     "text": [
      "failed downloading https://www.instagram.com/jagat.review/reel/DMRsIjVxA4J/ -> 96.mp4 | Fetching Post metadata failed.\n"
     ]
    },
    {
     "name": "stderr",
     "output_type": "stream",
     "text": [
      "JSON Query to graphql/query: 403 Forbidden when accessing https://www.instagram.com/graphql/query [retrying; skip with ^C]\n"
     ]
    },
    {
     "name": "stdout",
     "output_type": "stream",
     "text": [
      "failed downloading https://www.instagram.com/jagat.review/reel/DKL5mX2Sdi3/ -> 97.mp4 | Fetching Post metadata failed.\n"
     ]
    },
    {
     "name": "stderr",
     "output_type": "stream",
     "text": [
      "JSON Query to graphql/query: 403 Forbidden when accessing https://www.instagram.com/graphql/query [retrying; skip with ^C]\n"
     ]
    },
    {
     "name": "stdout",
     "output_type": "stream",
     "text": [
      "failed downloading https://www.instagram.com/jagat.review/reel/DIxchZfIBBj/ -> 98.mp4 | Fetching Post metadata failed.\n"
     ]
    },
    {
     "name": "stderr",
     "output_type": "stream",
     "text": [
      "Downloading...\n",
      "From: https://drive.google.com/uc?id=14AK_pf1gN1Tiesh4LtrO3AWtP-fuS-dd\n",
      "To: c:\\Users\\Adli\\Desktop\\ilegil\\bintangkecilmama\\satria-data-2025\\data\\test\\99.mp4\n",
      "100%|██████████| 7.76M/7.76M [00:00<00:00, 14.6MB/s]\n"
     ]
    },
    {
     "name": "stdout",
     "output_type": "stream",
     "text": [
      "Downloaded Google Drive file to data/test\\99.mp4\n"
     ]
    },
    {
     "name": "stderr",
     "output_type": "stream",
     "text": [
      "Downloading...\n",
      "From: https://drive.google.com/uc?id=19DN24hfiZdBYnIev8U9DTvsE70FjmhSF\n",
      "To: c:\\Users\\Adli\\Desktop\\ilegil\\bintangkecilmama\\satria-data-2025\\data\\test\\100.mp4\n",
      "100%|██████████| 21.5M/21.5M [00:01<00:00, 14.5MB/s]\n"
     ]
    },
    {
     "name": "stdout",
     "output_type": "stream",
     "text": [
      "Downloaded Google Drive file to data/test\\100.mp4\n",
      "failed downloading https://drive.google.com/file/d/1DtF-9-m3T2BmkMbxZOyW0mocKSyK69zW/view?usp=sharing -> 101.mp4 | HTTPSConnectionPool(host='doc-04-bg-docs.googleusercontent.com', port=443): Max retries exceeded with url: /docs/securesc/h9q4r09v4l7fg3rmcoiglvriksclasck/qvt71fphf7um7tug5s88sh9tt0i5hlt8/1756111650000/06282777864056475397/09610521287002288905Z/1DtF-9-m3T2BmkMbxZOyW0mocKSyK69zW?uuid=6482b2ed-64d9-4318-b009-1546872a4e6f (Caused by NameResolutionError(\"<urllib3.connection.HTTPSConnection object at 0x00000187B77E2710>: Failed to resolve 'doc-04-bg-docs.googleusercontent.com' ([Errno 11002] getaddrinfo failed)\"))\n",
      "failed downloading https://drive.google.com/file/d/1etsHQdM46Ah4UsNm8uyIL08w4otU9slH/view?usp=sharing -> 102.mp4 | HTTPSConnectionPool(host='doc-0k-bg-docs.googleusercontent.com', port=443): Max retries exceeded with url: /docs/securesc/h9q4r09v4l7fg3rmcoiglvriksclasck/b3msibao1agle8c6i30rhlb0oif9obtd/1756111650000/06282777864056475397/09610521287002288905Z/1etsHQdM46Ah4UsNm8uyIL08w4otU9slH?uuid=dee2be3f-0aa0-410a-8492-c02006e91040 (Caused by NameResolutionError(\"<urllib3.connection.HTTPSConnection object at 0x00000187B83F8C10>: Failed to resolve 'doc-0k-bg-docs.googleusercontent.com' ([Errno 11002] getaddrinfo failed)\"))\n"
     ]
    },
    {
     "name": "stderr",
     "output_type": "stream",
     "text": [
      "Downloading...\n",
      "From: https://drive.google.com/uc?id=1RzNIT_4ZJl3hw41qI8aSdyQdqsaTApKk\n",
      "To: c:\\Users\\Adli\\Desktop\\ilegil\\bintangkecilmama\\satria-data-2025\\data\\test\\103.mp4\n",
      "100%|██████████| 7.20M/7.20M [00:00<00:00, 11.6MB/s]\n"
     ]
    },
    {
     "name": "stdout",
     "output_type": "stream",
     "text": [
      "Downloaded Google Drive file to data/test\\103.mp4\n"
     ]
    },
    {
     "name": "stderr",
     "output_type": "stream",
     "text": [
      "Downloading...\n",
      "From: https://drive.google.com/uc?id=1AEpkz8RUfM_2XjSY-nKsXqK7CJH0caOR\n",
      "To: c:\\Users\\Adli\\Desktop\\ilegil\\bintangkecilmama\\satria-data-2025\\data\\test\\104.mp4\n",
      "100%|██████████| 7.05M/7.05M [00:02<00:00, 2.98MB/s]\n"
     ]
    },
    {
     "name": "stdout",
     "output_type": "stream",
     "text": [
      "Downloaded Google Drive file to data/test\\104.mp4\n"
     ]
    },
    {
     "name": "stderr",
     "output_type": "stream",
     "text": [
      "Downloading...\n",
      "From: https://drive.google.com/uc?id=1ko19DG40GCqyfPWK7jXtkKMMFhtvHCKr\n",
      "To: c:\\Users\\Adli\\Desktop\\ilegil\\bintangkecilmama\\satria-data-2025\\data\\test\\105.mp4\n",
      "100%|██████████| 14.9M/14.9M [00:01<00:00, 9.11MB/s]\n"
     ]
    },
    {
     "name": "stdout",
     "output_type": "stream",
     "text": [
      "Downloaded Google Drive file to data/test\\105.mp4\n"
     ]
    },
    {
     "name": "stderr",
     "output_type": "stream",
     "text": [
      "Downloading...\n",
      "From: https://drive.google.com/uc?id=17er5r8aKyE_DU1IgUXOPi2r6PigAXONS\n",
      "To: c:\\Users\\Adli\\Desktop\\ilegil\\bintangkecilmama\\satria-data-2025\\data\\test\\106.mp4\n",
      "100%|██████████| 16.9M/16.9M [00:02<00:00, 5.77MB/s]\n"
     ]
    },
    {
     "name": "stdout",
     "output_type": "stream",
     "text": [
      "Downloaded Google Drive file to data/test\\106.mp4\n",
      "failed downloading https://drive.google.com/drive/u/7/folders/1gtVlXrcEb9ApSc7YGvod5ADHpW4E-Cxe -> 107.mp4 | Invalid Google Drive URL\n"
     ]
    },
    {
     "name": "stderr",
     "output_type": "stream",
     "text": [
      "Downloading...\n",
      "From: https://drive.google.com/uc?id=1PMDBY0C5oekMhFDm2KcR2jLjdgonZ2Bi\n",
      "To: c:\\Users\\Adli\\Desktop\\ilegil\\bintangkecilmama\\satria-data-2025\\data\\test\\108.mp4\n",
      "100%|██████████| 8.36M/8.36M [00:00<00:00, 10.5MB/s]\n"
     ]
    },
    {
     "name": "stdout",
     "output_type": "stream",
     "text": [
      "Downloaded Google Drive file to data/test\\108.mp4\n"
     ]
    },
    {
     "name": "stderr",
     "output_type": "stream",
     "text": [
      "Downloading...\n",
      "From: https://drive.google.com/uc?id=1ElvqnnKfMLU8pZyKKs_CMxwGts2O770v\n",
      "To: c:\\Users\\Adli\\Desktop\\ilegil\\bintangkecilmama\\satria-data-2025\\data\\test\\109.mp4\n",
      "100%|██████████| 11.1M/11.1M [00:02<00:00, 4.54MB/s]\n"
     ]
    },
    {
     "name": "stdout",
     "output_type": "stream",
     "text": [
      "Downloaded Google Drive file to data/test\\109.mp4\n"
     ]
    },
    {
     "name": "stderr",
     "output_type": "stream",
     "text": [
      "JSON Query to graphql/query: HTTPSConnectionPool(host='www.instagram.com', port=443): Max retries exceeded with url: /graphql/query (Caused by NameResolutionError(\"<urllib3.connection.HTTPSConnection object at 0x00000187B838A1D0>: Failed to resolve 'www.instagram.com' ([Errno 11002] getaddrinfo failed)\")) [retrying; skip with ^C]\n",
      "JSON Query to graphql/query: HTTPSConnectionPool(host='www.instagram.com', port=443): Max retries exceeded with url: /graphql/query?variables=%7B%22shortcode%22%3A%22DJ835krx3c5%22%7D&doc_id=8845758582119845&server_timestamps=true (Caused by NameResolutionError(\"<urllib3.connection.HTTPSConnection object at 0x00000187B82DA010>: Failed to resolve 'www.instagram.com' ([Errno 11002] getaddrinfo failed)\")) [retrying; skip with ^C]\n"
     ]
    },
    {
     "name": "stdout",
     "output_type": "stream",
     "text": [
      "failed downloading https://www.instagram.com/reel/DJ835krx3c5/?utm_source=ig_web_copy_link&igsh=MzRlODBiNWFlZA== -> 110.mp4 | JSON Query to graphql/query: HTTPSConnectionPool(host='www.instagram.com', port=443): Max retries exceeded with url: /graphql/query?variables=%7B%22shortcode%22%3A%22DJ835krx3c5%22%7D&doc_id=8845758582119845&server_timestamps=true (Caused by NameResolutionError(\"<urllib3.connection.HTTPSConnection object at 0x00000187B8343490>: Failed to resolve 'www.instagram.com' ([Errno 11002] getaddrinfo failed)\"))\n"
     ]
    },
    {
     "name": "stderr",
     "output_type": "stream",
     "text": [
      "JSON Query to graphql/query: HTTPSConnectionPool(host='www.instagram.com', port=443): Max retries exceeded with url: /graphql/query (Caused by NameResolutionError(\"<urllib3.connection.HTTPSConnection object at 0x00000187B841D390>: Failed to resolve 'www.instagram.com' ([Errno 11002] getaddrinfo failed)\")) [retrying; skip with ^C]\n",
      "JSON Query to graphql/query: HTTPSConnectionPool(host='www.instagram.com', port=443): Max retries exceeded with url: /graphql/query?variables=%7B%22shortcode%22%3A%22DGu41vfRlg-%22%7D&doc_id=8845758582119845&server_timestamps=true (Caused by NameResolutionError(\"<urllib3.connection.HTTPSConnection object at 0x00000187B82AAF50>: Failed to resolve 'www.instagram.com' ([Errno 11002] getaddrinfo failed)\")) [retrying; skip with ^C]\n"
     ]
    },
    {
     "name": "stdout",
     "output_type": "stream",
     "text": [
      "Downloaded video to data/test\\111.mp4\n"
     ]
    },
    {
     "name": "stderr",
     "output_type": "stream",
     "text": [
      "JSON Query to graphql/query: 403 Forbidden when accessing https://www.instagram.com/graphql/query [retrying; skip with ^C]\n"
     ]
    },
    {
     "name": "stdout",
     "output_type": "stream",
     "text": [
      "Downloaded video to data/test\\112.mp4\n"
     ]
    },
    {
     "name": "stderr",
     "output_type": "stream",
     "text": [
      "JSON Query to graphql/query: 403 Forbidden when accessing https://www.instagram.com/graphql/query [retrying; skip with ^C]\n"
     ]
    },
    {
     "name": "stdout",
     "output_type": "stream",
     "text": [
      "Downloaded video to data/test\\113.mp4\n"
     ]
    },
    {
     "name": "stderr",
     "output_type": "stream",
     "text": [
      "JSON Query to graphql/query: 403 Forbidden when accessing https://www.instagram.com/graphql/query [retrying; skip with ^C]\n"
     ]
    },
    {
     "name": "stdout",
     "output_type": "stream",
     "text": [
      "Downloaded video to data/test\\114.mp4\n"
     ]
    },
    {
     "name": "stderr",
     "output_type": "stream",
     "text": [
      "JSON Query to graphql/query: 403 Forbidden when accessing https://www.instagram.com/graphql/query [retrying; skip with ^C]\n"
     ]
    },
    {
     "name": "stdout",
     "output_type": "stream",
     "text": [
      "Downloaded video to data/test\\115.mp4\n"
     ]
    },
    {
     "name": "stderr",
     "output_type": "stream",
     "text": [
      "JSON Query to graphql/query: 403 Forbidden when accessing https://www.instagram.com/graphql/query [retrying; skip with ^C]\n"
     ]
    },
    {
     "name": "stdout",
     "output_type": "stream",
     "text": [
      "Downloaded video to data/test\\116.mp4\n"
     ]
    },
    {
     "name": "stderr",
     "output_type": "stream",
     "text": [
      "JSON Query to graphql/query: 403 Forbidden when accessing https://www.instagram.com/graphql/query [retrying; skip with ^C]\n"
     ]
    },
    {
     "name": "stdout",
     "output_type": "stream",
     "text": [
      "Downloaded video to data/test\\117.mp4\n"
     ]
    },
    {
     "name": "stderr",
     "output_type": "stream",
     "text": [
      "JSON Query to graphql/query: 403 Forbidden when accessing https://www.instagram.com/graphql/query [retrying; skip with ^C]\n"
     ]
    },
    {
     "name": "stdout",
     "output_type": "stream",
     "text": [
      "Downloaded video to data/test\\118.mp4\n"
     ]
    },
    {
     "name": "stderr",
     "output_type": "stream",
     "text": [
      "JSON Query to graphql/query: 403 Forbidden when accessing https://www.instagram.com/graphql/query [retrying; skip with ^C]\n"
     ]
    },
    {
     "name": "stdout",
     "output_type": "stream",
     "text": [
      "Downloaded video to data/test\\119.mp4\n"
     ]
    },
    {
     "name": "stderr",
     "output_type": "stream",
     "text": [
      "JSON Query to graphql/query: 403 Forbidden when accessing https://www.instagram.com/graphql/query [retrying; skip with ^C]\n"
     ]
    },
    {
     "name": "stdout",
     "output_type": "stream",
     "text": [
      "Downloaded video to data/test\\120.mp4\n"
     ]
    },
    {
     "name": "stderr",
     "output_type": "stream",
     "text": [
      "JSON Query to graphql/query: 403 Forbidden when accessing https://www.instagram.com/graphql/query [retrying; skip with ^C]\n"
     ]
    },
    {
     "name": "stdout",
     "output_type": "stream",
     "text": [
      "Downloaded video to data/test\\121.mp4\n"
     ]
    },
    {
     "name": "stderr",
     "output_type": "stream",
     "text": [
      "JSON Query to graphql/query: 403 Forbidden when accessing https://www.instagram.com/graphql/query [retrying; skip with ^C]\n"
     ]
    },
    {
     "name": "stdout",
     "output_type": "stream",
     "text": [
      "Downloaded video to data/test\\122.mp4\n"
     ]
    },
    {
     "name": "stderr",
     "output_type": "stream",
     "text": [
      "JSON Query to graphql/query: 403 Forbidden when accessing https://www.instagram.com/graphql/query [retrying; skip with ^C]\n"
     ]
    },
    {
     "name": "stdout",
     "output_type": "stream",
     "text": [
      "Downloaded video to data/test\\123.mp4\n"
     ]
    },
    {
     "name": "stderr",
     "output_type": "stream",
     "text": [
      "JSON Query to graphql/query: 403 Forbidden when accessing https://www.instagram.com/graphql/query [retrying; skip with ^C]\n"
     ]
    },
    {
     "name": "stdout",
     "output_type": "stream",
     "text": [
      "Downloaded video to data/test\\124.mp4\n"
     ]
    },
    {
     "name": "stderr",
     "output_type": "stream",
     "text": [
      "JSON Query to graphql/query: 403 Forbidden when accessing https://www.instagram.com/graphql/query [retrying; skip with ^C]\n"
     ]
    },
    {
     "name": "stdout",
     "output_type": "stream",
     "text": [
      "Downloaded video to data/test\\125.mp4\n"
     ]
    },
    {
     "name": "stderr",
     "output_type": "stream",
     "text": [
      "JSON Query to graphql/query: 403 Forbidden when accessing https://www.instagram.com/graphql/query [retrying; skip with ^C]\n"
     ]
    },
    {
     "name": "stdout",
     "output_type": "stream",
     "text": [
      "Downloaded video to data/test\\126.mp4\n"
     ]
    },
    {
     "name": "stderr",
     "output_type": "stream",
     "text": [
      "JSON Query to graphql/query: 403 Forbidden when accessing https://www.instagram.com/graphql/query [retrying; skip with ^C]\n"
     ]
    },
    {
     "name": "stdout",
     "output_type": "stream",
     "text": [
      "Downloaded video to data/test\\127.mp4\n"
     ]
    },
    {
     "name": "stderr",
     "output_type": "stream",
     "text": [
      "JSON Query to graphql/query: 403 Forbidden when accessing https://www.instagram.com/graphql/query [retrying; skip with ^C]\n"
     ]
    },
    {
     "name": "stdout",
     "output_type": "stream",
     "text": [
      "Downloaded video to data/test\\128.mp4\n"
     ]
    },
    {
     "name": "stderr",
     "output_type": "stream",
     "text": [
      "JSON Query to graphql/query: 403 Forbidden when accessing https://www.instagram.com/graphql/query [retrying; skip with ^C]\n"
     ]
    },
    {
     "name": "stdout",
     "output_type": "stream",
     "text": [
      "Downloaded video to data/test\\129.mp4\n"
     ]
    },
    {
     "name": "stderr",
     "output_type": "stream",
     "text": [
      "JSON Query to graphql/query: 403 Forbidden when accessing https://www.instagram.com/graphql/query [retrying; skip with ^C]\n"
     ]
    },
    {
     "name": "stdout",
     "output_type": "stream",
     "text": [
      "Downloaded video to data/test\\130.mp4\n"
     ]
    },
    {
     "name": "stderr",
     "output_type": "stream",
     "text": [
      "Downloading...\n",
      "From: https://drive.google.com/uc?id=1atFJ7NdIi85K4Q8xqKtumuqbXh9MI46S\n",
      "To: c:\\Users\\Adli\\Desktop\\ilegil\\bintangkecilmama\\satria-data-2025\\data\\test\\131.mp4\n",
      "100%|██████████| 29.5M/29.5M [00:02<00:00, 12.3MB/s]\n"
     ]
    },
    {
     "name": "stdout",
     "output_type": "stream",
     "text": [
      "Downloaded Google Drive file to data/test\\131.mp4\n"
     ]
    },
    {
     "name": "stderr",
     "output_type": "stream",
     "text": [
      "Downloading...\n",
      "From: https://drive.google.com/uc?id=1GZb1QrS9XT4ZGhxp6fq9qHruexrUgaTX\n",
      "To: c:\\Users\\Adli\\Desktop\\ilegil\\bintangkecilmama\\satria-data-2025\\data\\test\\132.mp4\n",
      "100%|██████████| 3.66M/3.66M [00:00<00:00, 7.28MB/s]\n"
     ]
    },
    {
     "name": "stdout",
     "output_type": "stream",
     "text": [
      "Downloaded Google Drive file to data/test\\132.mp4\n"
     ]
    },
    {
     "name": "stderr",
     "output_type": "stream",
     "text": [
      "Downloading...\n",
      "From: https://drive.google.com/uc?id=1aJVMO-4PF8IbcZEuBcdMDDZXH0HvvQ7Z\n",
      "To: c:\\Users\\Adli\\Desktop\\ilegil\\bintangkecilmama\\satria-data-2025\\data\\test\\133.mp4\n",
      "100%|██████████| 37.8M/37.8M [00:03<00:00, 12.2MB/s]\n"
     ]
    },
    {
     "name": "stdout",
     "output_type": "stream",
     "text": [
      "Downloaded Google Drive file to data/test\\133.mp4\n"
     ]
    },
    {
     "name": "stderr",
     "output_type": "stream",
     "text": [
      "Downloading...\n",
      "From: https://drive.google.com/uc?id=1lbnA57scQfUs1NtxPzdfc8lNxCN7EskH\n",
      "To: c:\\Users\\Adli\\Desktop\\ilegil\\bintangkecilmama\\satria-data-2025\\data\\test\\134.mp4\n",
      "100%|██████████| 19.4M/19.4M [00:01<00:00, 14.9MB/s]\n"
     ]
    },
    {
     "name": "stdout",
     "output_type": "stream",
     "text": [
      "Downloaded Google Drive file to data/test\\134.mp4\n"
     ]
    },
    {
     "name": "stderr",
     "output_type": "stream",
     "text": [
      "Downloading...\n",
      "From: https://drive.google.com/uc?id=1sQ5YuTsgyWV6iUdtxPN3PcYZzI_WmTSd\n",
      "To: c:\\Users\\Adli\\Desktop\\ilegil\\bintangkecilmama\\satria-data-2025\\data\\test\\135.mp4\n",
      "100%|██████████| 12.5M/12.5M [00:02<00:00, 4.78MB/s]\n"
     ]
    },
    {
     "name": "stdout",
     "output_type": "stream",
     "text": [
      "Downloaded Google Drive file to data/test\\135.mp4\n"
     ]
    },
    {
     "name": "stderr",
     "output_type": "stream",
     "text": [
      "Downloading...\n",
      "From: https://drive.google.com/uc?id=1MjA5r9wB619NBT5Or235HhNaVZ7HEMhe\n",
      "To: c:\\Users\\Adli\\Desktop\\ilegil\\bintangkecilmama\\satria-data-2025\\data\\test\\136.mp4\n",
      "100%|██████████| 16.8M/16.8M [00:01<00:00, 12.2MB/s]\n"
     ]
    },
    {
     "name": "stdout",
     "output_type": "stream",
     "text": [
      "Downloaded Google Drive file to data/test\\136.mp4\n"
     ]
    },
    {
     "name": "stderr",
     "output_type": "stream",
     "text": [
      "Downloading...\n",
      "From: https://drive.google.com/uc?id=1_IPDdNJ7xPFvWHy2-px1Pa7Qrj48aIWp\n",
      "To: c:\\Users\\Adli\\Desktop\\ilegil\\bintangkecilmama\\satria-data-2025\\data\\test\\137.mp4\n",
      "100%|██████████| 43.1M/43.1M [00:02<00:00, 16.1MB/s]\n"
     ]
    },
    {
     "name": "stdout",
     "output_type": "stream",
     "text": [
      "Downloaded Google Drive file to data/test\\137.mp4\n"
     ]
    },
    {
     "name": "stderr",
     "output_type": "stream",
     "text": [
      "JSON Query to graphql/query: HTTPSConnectionPool(host='www.instagram.com', port=443): Max retries exceeded with url: /graphql/query (Caused by NameResolutionError(\"<urllib3.connection.HTTPSConnection object at 0x00000187B8411510>: Failed to resolve 'www.instagram.com' ([Errno 11002] getaddrinfo failed)\")) [retrying; skip with ^C]\n",
      "JSON Query to graphql/query: HTTPSConnectionPool(host='www.instagram.com', port=443): Max retries exceeded with url: /graphql/query?variables=%7B%22shortcode%22%3A%22C9zeHtmSftf%22%7D&doc_id=8845758582119845&server_timestamps=true (Caused by NameResolutionError(\"<urllib3.connection.HTTPSConnection object at 0x00000187B8403950>: Failed to resolve 'www.instagram.com' ([Errno 11002] getaddrinfo failed)\")) [retrying; skip with ^C]\n"
     ]
    },
    {
     "name": "stdout",
     "output_type": "stream",
     "text": [
      "failed downloading https://www.instagram.com/reel/C9zeHtmSftf/?igsh=ODNoZDlveWRjOGV6 -> 138.mp4 | JSON Query to graphql/query: HTTPSConnectionPool(host='www.instagram.com', port=443): Max retries exceeded with url: /graphql/query?variables=%7B%22shortcode%22%3A%22C9zeHtmSftf%22%7D&doc_id=8845758582119845&server_timestamps=true (Caused by NameResolutionError(\"<urllib3.connection.HTTPSConnection object at 0x00000187B8429650>: Failed to resolve 'www.instagram.com' ([Errno 11002] getaddrinfo failed)\"))\n"
     ]
    },
    {
     "name": "stderr",
     "output_type": "stream",
     "text": [
      "JSON Query to graphql/query: HTTPSConnectionPool(host='www.instagram.com', port=443): Max retries exceeded with url: /graphql/query (Caused by NameResolutionError(\"<urllib3.connection.HTTPSConnection object at 0x00000187B80B7B90>: Failed to resolve 'www.instagram.com' ([Errno 11002] getaddrinfo failed)\")) [retrying; skip with ^C]\n",
      "JSON Query to graphql/query: HTTPSConnectionPool(host='www.instagram.com', port=443): Max retries exceeded with url: /graphql/query?variables=%7B%22shortcode%22%3A%22C_reJDqSNno%22%7D&doc_id=8845758582119845&server_timestamps=true (Caused by NameResolutionError(\"<urllib3.connection.HTTPSConnection object at 0x00000187B83C7850>: Failed to resolve 'www.instagram.com' ([Errno 11002] getaddrinfo failed)\")) [retrying; skip with ^C]\n"
     ]
    },
    {
     "name": "stdout",
     "output_type": "stream",
     "text": [
      "Downloaded video to data/test\\139.mp4\n"
     ]
    },
    {
     "name": "stderr",
     "output_type": "stream",
     "text": [
      "JSON Query to graphql/query: 403 Forbidden when accessing https://www.instagram.com/graphql/query [retrying; skip with ^C]\n"
     ]
    },
    {
     "name": "stdout",
     "output_type": "stream",
     "text": [
      "Downloaded video to data/test\\140.mp4\n"
     ]
    },
    {
     "name": "stderr",
     "output_type": "stream",
     "text": [
      "JSON Query to graphql/query: 403 Forbidden when accessing https://www.instagram.com/graphql/query [retrying; skip with ^C]\n"
     ]
    },
    {
     "name": "stdout",
     "output_type": "stream",
     "text": [
      "Downloaded video to data/test\\141.mp4\n"
     ]
    },
    {
     "name": "stderr",
     "output_type": "stream",
     "text": [
      "JSON Query to graphql/query: 403 Forbidden when accessing https://www.instagram.com/graphql/query [retrying; skip with ^C]\n"
     ]
    },
    {
     "name": "stdout",
     "output_type": "stream",
     "text": [
      "Downloaded video to data/test\\142.mp4\n"
     ]
    },
    {
     "name": "stderr",
     "output_type": "stream",
     "text": [
      "JSON Query to graphql/query: 403 Forbidden when accessing https://www.instagram.com/graphql/query [retrying; skip with ^C]\n"
     ]
    },
    {
     "name": "stdout",
     "output_type": "stream",
     "text": [
      "Downloaded video to data/test\\143.mp4\n"
     ]
    },
    {
     "name": "stderr",
     "output_type": "stream",
     "text": [
      "JSON Query to graphql/query: 403 Forbidden when accessing https://www.instagram.com/graphql/query [retrying; skip with ^C]\n"
     ]
    },
    {
     "name": "stdout",
     "output_type": "stream",
     "text": [
      "Downloaded video to data/test\\144.mp4\n"
     ]
    },
    {
     "name": "stderr",
     "output_type": "stream",
     "text": [
      "JSON Query to graphql/query: 403 Forbidden when accessing https://www.instagram.com/graphql/query [retrying; skip with ^C]\n"
     ]
    },
    {
     "name": "stdout",
     "output_type": "stream",
     "text": [
      "Downloaded video to data/test\\145.mp4\n"
     ]
    },
    {
     "name": "stderr",
     "output_type": "stream",
     "text": [
      "JSON Query to graphql/query: 403 Forbidden when accessing https://www.instagram.com/graphql/query [retrying; skip with ^C]\n"
     ]
    },
    {
     "name": "stdout",
     "output_type": "stream",
     "text": [
      "Downloaded video to data/test\\146.mp4\n"
     ]
    },
    {
     "name": "stderr",
     "output_type": "stream",
     "text": [
      "JSON Query to graphql/query: 403 Forbidden when accessing https://www.instagram.com/graphql/query [retrying; skip with ^C]\n"
     ]
    },
    {
     "name": "stdout",
     "output_type": "stream",
     "text": [
      "Downloaded video to data/test\\147.mp4\n"
     ]
    },
    {
     "name": "stderr",
     "output_type": "stream",
     "text": [
      "JSON Query to graphql/query: 403 Forbidden when accessing https://www.instagram.com/graphql/query [retrying; skip with ^C]\n"
     ]
    },
    {
     "name": "stdout",
     "output_type": "stream",
     "text": [
      "Downloaded video to data/test\\148.mp4\n"
     ]
    },
    {
     "name": "stderr",
     "output_type": "stream",
     "text": [
      "JSON Query to graphql/query: 403 Forbidden when accessing https://www.instagram.com/graphql/query [retrying; skip with ^C]\n"
     ]
    },
    {
     "name": "stdout",
     "output_type": "stream",
     "text": [
      "Downloaded video to data/test\\149.mp4\n"
     ]
    },
    {
     "name": "stderr",
     "output_type": "stream",
     "text": [
      "JSON Query to graphql/query: 403 Forbidden when accessing https://www.instagram.com/graphql/query [retrying; skip with ^C]\n"
     ]
    },
    {
     "name": "stdout",
     "output_type": "stream",
     "text": [
      "Downloaded video to data/test\\150.mp4\n"
     ]
    },
    {
     "name": "stderr",
     "output_type": "stream",
     "text": [
      "JSON Query to graphql/query: 403 Forbidden when accessing https://www.instagram.com/graphql/query [retrying; skip with ^C]\n"
     ]
    },
    {
     "name": "stdout",
     "output_type": "stream",
     "text": [
      "Downloaded video to data/test\\151.mp4\n"
     ]
    },
    {
     "name": "stderr",
     "output_type": "stream",
     "text": [
      "JSON Query to graphql/query: 403 Forbidden when accessing https://www.instagram.com/graphql/query [retrying; skip with ^C]\n"
     ]
    },
    {
     "name": "stdout",
     "output_type": "stream",
     "text": [
      "Downloaded video to data/test\\152.mp4\n"
     ]
    },
    {
     "name": "stderr",
     "output_type": "stream",
     "text": [
      "JSON Query to graphql/query: 403 Forbidden when accessing https://www.instagram.com/graphql/query [retrying; skip with ^C]\n"
     ]
    },
    {
     "name": "stdout",
     "output_type": "stream",
     "text": [
      "Downloaded video to data/test\\153.mp4\n"
     ]
    },
    {
     "name": "stderr",
     "output_type": "stream",
     "text": [
      "JSON Query to graphql/query: 403 Forbidden when accessing https://www.instagram.com/graphql/query [retrying; skip with ^C]\n"
     ]
    },
    {
     "name": "stdout",
     "output_type": "stream",
     "text": [
      "Downloaded video to data/test\\154.mp4\n"
     ]
    },
    {
     "name": "stderr",
     "output_type": "stream",
     "text": [
      "JSON Query to graphql/query: 403 Forbidden when accessing https://www.instagram.com/graphql/query [retrying; skip with ^C]\n"
     ]
    },
    {
     "name": "stdout",
     "output_type": "stream",
     "text": [
      "Downloaded video to data/test\\155.mp4\n"
     ]
    },
    {
     "name": "stderr",
     "output_type": "stream",
     "text": [
      "JSON Query to graphql/query: 403 Forbidden when accessing https://www.instagram.com/graphql/query [retrying; skip with ^C]\n"
     ]
    },
    {
     "name": "stdout",
     "output_type": "stream",
     "text": [
      "Downloaded video to data/test\\156.mp4\n"
     ]
    },
    {
     "name": "stderr",
     "output_type": "stream",
     "text": [
      "JSON Query to graphql/query: 403 Forbidden when accessing https://www.instagram.com/graphql/query [retrying; skip with ^C]\n"
     ]
    },
    {
     "name": "stdout",
     "output_type": "stream",
     "text": [
      "Downloaded video to data/test\\157.mp4\n"
     ]
    },
    {
     "name": "stderr",
     "output_type": "stream",
     "text": [
      "JSON Query to graphql/query: 403 Forbidden when accessing https://www.instagram.com/graphql/query [retrying; skip with ^C]\n"
     ]
    },
    {
     "name": "stdout",
     "output_type": "stream",
     "text": [
      "Downloaded video to data/test\\158.mp4\n"
     ]
    },
    {
     "name": "stderr",
     "output_type": "stream",
     "text": [
      "JSON Query to graphql/query: 403 Forbidden when accessing https://www.instagram.com/graphql/query [retrying; skip with ^C]\n"
     ]
    },
    {
     "name": "stdout",
     "output_type": "stream",
     "text": [
      "Downloaded video to data/test\\159.mp4\n"
     ]
    },
    {
     "name": "stderr",
     "output_type": "stream",
     "text": [
      "JSON Query to graphql/query: 403 Forbidden when accessing https://www.instagram.com/graphql/query [retrying; skip with ^C]\n"
     ]
    },
    {
     "name": "stdout",
     "output_type": "stream",
     "text": [
      "Downloaded video to data/test\\160.mp4\n"
     ]
    },
    {
     "name": "stderr",
     "output_type": "stream",
     "text": [
      "JSON Query to graphql/query: 403 Forbidden when accessing https://www.instagram.com/graphql/query [retrying; skip with ^C]\n"
     ]
    },
    {
     "name": "stdout",
     "output_type": "stream",
     "text": [
      "Downloaded video to data/test\\161.mp4\n"
     ]
    },
    {
     "name": "stderr",
     "output_type": "stream",
     "text": [
      "JSON Query to graphql/query: 403 Forbidden when accessing https://www.instagram.com/graphql/query [retrying; skip with ^C]\n"
     ]
    },
    {
     "name": "stdout",
     "output_type": "stream",
     "text": [
      "Downloaded video to data/test\\162.mp4\n"
     ]
    },
    {
     "name": "stderr",
     "output_type": "stream",
     "text": [
      "JSON Query to graphql/query: 403 Forbidden when accessing https://www.instagram.com/graphql/query [retrying; skip with ^C]\n"
     ]
    },
    {
     "name": "stdout",
     "output_type": "stream",
     "text": [
      "failed downloading https://instagram.fcgk8-2.fna.fbcdn.net/o1/v/t2/f2/m86/AQMSsB8Yjd1s7CxLMCdlzBE1Q4WAjpQRnTh4M7ifXye8BWbsdiesYfta-05GIhcKQYgAy81VrImkgEGG4AD78GEclnlFJmSI66KS9b8.mp4?_nc_cat=107&_nc_oc=Adk1H0fkcEpY-OaAqAqverPst_n3ZHYs-fCPmr-9sPqhNZwoWEQfIs_eIbDmk-0xdXupjG4rW-zt4rbCzhN5Xccd&_nc_sid=5e9851&_nc_ht=instagram.fcgk8-2.fna.fbcdn.net&_nc_ohc=DhQrNkoGA0MQ7kNvwFdMHl9&efg=eyJ2ZW5jb2RlX3RhZyI6Inhwdl9wcm9ncmVzc2l2ZS5JTlNUQUdSQU0uQ0xJUFMuQzMuNzIwLmRhc2hfYmFzZWxpbmVfMV92MSIsInhwdl9hc3NldF9pZCI6MTI2NTg1NTkwODM3Mjc2MCwidmlfdXNlY2FzZV9pZCI6MTAwOTksImR1cmF0aW9uX3MiOjM4LCJ1cmxnZW5fc291cmNlIjoid3d3In0%3D&ccb=17-1&vs=d52ab3928538ef73&_nc_vs=HBksFQIYUmlnX3hwdl9yZWVsc19wZXJtYW5lbnRfc3JfcHJvZC9GMTRDODdENTVGOTA5MEI3RkVCNUNFRTE3NUQ4NDRCOV92aWRlb19kYXNoaW5pdC5tcDQVAALIARIAFQIYOnBhc3N0aHJvdWdoX2V2ZXJzdG9yZS9HRUtLRFItRWNidjhuYXdFQUY4RGNXbThvS3g3YnFfRUFBQUYVAgLIARIAKAAYABsCiAd1c2Vfb2lsATEScHJvZ3Jlc3NpdmVfcmVjaXBlATEVAAAmsISLvMHSvwQVAigCQzMsF0BDe6XjU_fPGBJkYXNoX2Jhc2VsaW5lXzFfdjERAHX-B2XmnQEA&_nc_zt=28&oh=00_AfXcnvGrMFm7DWk5uPWXeQ6kHmngsnVGYAaFmgb6WYMsdw&oe=689B4DFC, https://instagram.fcgk8-2.fna.fbcdn.net/o1/v/t2/f2/m86/AQMSsB8Yjd1s7CxLMCdlzBE1Q4WAjpQRnTh4M7ifXye8BWbsdiesYfta-05GIhcKQYgAy81VrImkgEGG4AD78GEclnlFJmSI66KS9b8.mp4?_nc_cat=107&_nc_oc=Adk1H0fkcEpY-OaAqAqverPst_n3ZHYs-fCPmr-9sPqhNZwoWEQfIs_eIbDmk-0xdXupjG4rW-zt4rbCzhN5Xccd&_nc_sid=5e9851&_nc_ht=instagram.fcgk8-2.fna.fbcdn.net&_nc_ohc=DhQrNkoGA0MQ7kNvwFdMHl9&efg=eyJ2ZW5jb2RlX3RhZyI6Inhwdl9wcm9ncmVzc2l2ZS5JTlNUQUdSQU0uQ0xJUFMuQzMuNzIwLmRhc2hfYmFzZWxpbmVfMV92MSIsInhwdl9hc3NldF9pZCI6MTI2NTg1NTkwODM3Mjc2MCwidmlfdXNlY2FzZV9pZCI6MTAwOTksImR1cmF0aW9uX3MiOjM4LCJ1cmxnZW5fc291cmNlIjoid3d3In0%3D&ccb=17-1&vs=d52ab3928538ef73&_nc_vs=HBksFQIYUmlnX3hwdl9yZWVsc19wZXJtYW5lbnRfc3JfcHJvZC9GMTRDODdENTVGOTA5MEI3RkVCNUNFRTE3NUQ4NDRCOV92aWRlb19kYXNoaW5pdC5tcDQVAALIARIAFQIYOnBhc3N0aHJvdWdoX2V2ZXJzdG9yZS9HRUtLRFItRWNidjhuYXdFQUY4RGNXbThvS3g3YnFfRUFBQUYVAgLIARIAKAAYABsCiAd1c2Vfb2lsATEScHJvZ3Jlc3NpdmVfcmVjaXBlATEVAAAmsISLvMHSvwQVAigCQzMsF0BDe6XjU_fPGBJkYXNoX2Jhc2VsaW5lXzFfdjERAHX-B2XmnQEA&_nc_zt=28&oh=00_AfXcnvGrMFm7DWk5uPWXeQ6kHmngsnVGYAaFmgb6WYMsdw&oe=689B4DFC, https://instagram.fcgk8-2.fna.fbcdn.net/o1/v/t2/f2/m86/AQMSsB8Yjd1s7CxLMCdlzBE1Q4WAjpQRnTh4M7ifXye8BWbsdiesYfta-05GIhcKQYgAy81VrImkgEGG4AD78GEclnlFJmSI66KS9b8.mp4?_nc_cat=107&_nc_oc=Adk1H0fkcEpY-OaAqAqverPst_n3ZHYs-fCPmr-9sPqhNZwoWEQfIs_eIbDmk-0xdXupjG4rW-zt4rbCzhN5Xccd&_nc_sid=5e9851&_nc_ht=instagram.fcgk8-2.fna.fbcdn.net&_nc_ohc=DhQrNkoGA0MQ7kNvwFdMHl9&efg=eyJ2ZW5jb2RlX3RhZyI6Inhwdl9wcm9ncmVzc2l2ZS5JTlNUQUdSQU0uQ0xJUFMuQzMuNzIwLmRhc2hfYmFzZWxpbmVfMV92MSIsInhwdl9hc3NldF9pZCI6MTI2NTg1NTkwODM3Mjc2MCwidmlfdXNlY2FzZV9pZCI6MTAwOTksImR1cmF0aW9uX3MiOjM4LCJ1cmxnZW5fc291cmNlIjoid3d3In0%3D&ccb=17-1&vs=d52ab3928538ef73&_nc_vs=HBksFQIYUmlnX3hwdl9yZWVsc19wZXJtYW5lbnRfc3JfcHJvZC9GMTRDODdENTVGOTA5MEI3RkVCNUNFRTE3NUQ4NDRCOV92aWRlb19kYXNoaW5pdC5tcDQVAALIARIAFQIYOnBhc3N0aHJvdWdoX2V2ZXJzdG9yZS9HRUtLRFItRWNidjhuYXdFQUY4RGNXbThvS3g3YnFfRUFBQUYVAgLIARIAKAAYABsCiAd1c2Vfb2lsATEScHJvZ3Jlc3NpdmVfcmVjaXBlATEVAAAmsISLvMHSvwQVAigCQzMsF0BDe6XjU_fPGBJkYXNoX2Jhc2VsaW5lXzFfdjERAHX-B2XmnQEA&_nc_zt=28&oh=00_AfXcnvGrMFm7DWk5uPWXeQ6kHmngsnVGYAaFmgb6WYMsdw&oe=689B4DFC -> 163.mp4 | Fetching Post metadata failed.\n"
     ]
    },
    {
     "name": "stderr",
     "output_type": "stream",
     "text": [
      "JSON Query to graphql/query: 403 Forbidden when accessing https://www.instagram.com/graphql/query [retrying; skip with ^C]\n"
     ]
    },
    {
     "name": "stdout",
     "output_type": "stream",
     "text": [
      "Downloaded video to data/test\\164.mp4\n"
     ]
    },
    {
     "name": "stderr",
     "output_type": "stream",
     "text": [
      "JSON Query to graphql/query: 403 Forbidden when accessing https://www.instagram.com/graphql/query [retrying; skip with ^C]\n"
     ]
    },
    {
     "name": "stdout",
     "output_type": "stream",
     "text": [
      "failed downloading https://instagram.fcgk38-1.fna.fbcdn.net/o1/v/t2/f2/m86/AQOmEkBINMLerU8OSYmJ6Ih1h08vQv_Z-267MnsQxGBMQaUWwj3Ugn1P89oDZfAVNadGZELYVRuk-6icr4f11N5_U1ibtPmGSi0j7R4.mp4?_nc_cat=108&_nc_oc=Admheqc9tYbeC7x7lodLWmXqtg98UFlgaV4GhNNLUcysyRP_A_punAfmrRPaoY8lbxEhUNd-eIAdQGGOeZyJK6zb&_nc_sid=5e9851&_nc_ht=instagram.fcgk38-1.fna.fbcdn.net&_nc_ohc=IW0flqgZ-8cQ7kNvwEeylGL&efg=eyJ2ZW5jb2RlX3RhZyI6Inhwdl9wcm9ncmVzc2l2ZS5JTlNUQUdSQU0uQ0xJUFMuQzMuNzIwLmRhc2hfYmFzZWxpbmVfMV92MSIsInhwdl9hc3NldF9pZCI6MTg4NjgyMTY1ODUyNTgxMSwidmlfdXNlY2FzZV9pZCI6MTAwOTksImR1cmF0aW9uX3MiOjcwLCJ1cmxnZW5fc291cmNlIjoid3d3In0%3D&ccb=17-1&vs=39c00162f1dbb29b&_nc_vs=HBksFQIYUmlnX3hwdl9yZWVsc19wZXJtYW5lbnRfc3JfcHJvZC8xRTQ0QjU3Q0UwQzNGNUZGNzc3MUZGQkEzNjk5NkQ5Ql92aWRlb19kYXNoaW5pdC5tcDQVAALIARIAFQIYOnBhc3N0aHJvdWdoX2V2ZXJzdG9yZS9HSzNiNng0dklCNmNPczhEQUV6MkV2QXk3UHB1YnFfRUFBQUYVAgLIARIAKAAYABsCiAd1c2Vfb2lsATEScHJvZ3Jlc3NpdmVfcmVjaXBlATEVAAAm5oGw67yD2gYVAigCQzMsF0BRt2yLQ5WBGBJkYXNoX2Jhc2VsaW5lXzFfdjERAHX-B2XmnQEA&_nc_zt=28&oh=00_AfVcgs9OAJZJ-jELaFadWZCA-k8N1i0AuVaHmplwN99hzw&oe=689B2D2D, https://instagram.fcgk38-1.fna.fbcdn.net/o1/v/t2/f2/m86/AQOmEkBINMLerU8OSYmJ6Ih1h08vQv_Z-267MnsQxGBMQaUWwj3Ugn1P89oDZfAVNadGZELYVRuk-6icr4f11N5_U1ibtPmGSi0j7R4.mp4?_nc_cat=108&_nc_oc=Admheqc9tYbeC7x7lodLWmXqtg98UFlgaV4GhNNLUcysyRP_A_punAfmrRPaoY8lbxEhUNd-eIAdQGGOeZyJK6zb&_nc_sid=5e9851&_nc_ht=instagram.fcgk38-1.fna.fbcdn.net&_nc_ohc=IW0flqgZ-8cQ7kNvwEeylGL&efg=eyJ2ZW5jb2RlX3RhZyI6Inhwdl9wcm9ncmVzc2l2ZS5JTlNUQUdSQU0uQ0xJUFMuQzMuNzIwLmRhc2hfYmFzZWxpbmVfMV92MSIsInhwdl9hc3NldF9pZCI6MTg4NjgyMTY1ODUyNTgxMSwidmlfdXNlY2FzZV9pZCI6MTAwOTksImR1cmF0aW9uX3MiOjcwLCJ1cmxnZW5fc291cmNlIjoid3d3In0%3D&ccb=17-1&vs=39c00162f1dbb29b&_nc_vs=HBksFQIYUmlnX3hwdl9yZWVsc19wZXJtYW5lbnRfc3JfcHJvZC8xRTQ0QjU3Q0UwQzNGNUZGNzc3MUZGQkEzNjk5NkQ5Ql92aWRlb19kYXNoaW5pdC5tcDQVAALIARIAFQIYOnBhc3N0aHJvdWdoX2V2ZXJzdG9yZS9HSzNiNng0dklCNmNPczhEQUV6MkV2QXk3UHB1YnFfRUFBQUYVAgLIARIAKAAYABsCiAd1c2Vfb2lsATEScHJvZ3Jlc3NpdmVfcmVjaXBlATEVAAAm5oGw67yD2gYVAigCQzMsF0BRt2yLQ5WBGBJkYXNoX2Jhc2VsaW5lXzFfdjERAHX-B2XmnQEA&_nc_zt=28&oh=00_AfVcgs9OAJZJ-jELaFadWZCA-k8N1i0AuVaHmplwN99hzw&oe=689B2D2D, https://instagram.fcgk38-1.fna.fbcdn.net/o1/v/t2/f2/m86/AQOmEkBINMLerU8OSYmJ6Ih1h08vQv_Z-267MnsQxGBMQaUWwj3Ugn1P89oDZfAVNadGZELYVRuk-6icr4f11N5_U1ibtPmGSi0j7R4.mp4?_nc_cat=108&_nc_oc=Admheqc9tYbeC7x7lodLWmXqtg98UFlgaV4GhNNLUcysyRP_A_punAfmrRPaoY8lbxEhUNd-eIAdQGGOeZyJK6zb&_nc_sid=5e9851&_nc_ht=instagram.fcgk38-1.fna.fbcdn.net&_nc_ohc=IW0flqgZ-8cQ7kNvwEeylGL&efg=eyJ2ZW5jb2RlX3RhZyI6Inhwdl9wcm9ncmVzc2l2ZS5JTlNUQUdSQU0uQ0xJUFMuQzMuNzIwLmRhc2hfYmFzZWxpbmVfMV92MSIsInhwdl9hc3NldF9pZCI6MTg4NjgyMTY1ODUyNTgxMSwidmlfdXNlY2FzZV9pZCI6MTAwOTksImR1cmF0aW9uX3MiOjcwLCJ1cmxnZW5fc291cmNlIjoid3d3In0%3D&ccb=17-1&vs=39c00162f1dbb29b&_nc_vs=HBksFQIYUmlnX3hwdl9yZWVsc19wZXJtYW5lbnRfc3JfcHJvZC8xRTQ0QjU3Q0UwQzNGNUZGNzc3MUZGQkEzNjk5NkQ5Ql92aWRlb19kYXNoaW5pdC5tcDQVAALIARIAFQIYOnBhc3N0aHJvdWdoX2V2ZXJzdG9yZS9HSzNiNng0dklCNmNPczhEQUV6MkV2QXk3UHB1YnFfRUFBQUYVAgLIARIAKAAYABsCiAd1c2Vfb2lsATEScHJvZ3Jlc3NpdmVfcmVjaXBlATEVAAAm5oGw67yD2gYVAigCQzMsF0BRt2yLQ5WBGBJkYXNoX2Jhc2VsaW5lXzFfdjERAHX-B2XmnQEA&_nc_zt=28&oh=00_AfVcgs9OAJZJ-jELaFadWZCA-k8N1i0AuVaHmplwN99hzw&oe=689B2D2D -> 165.mp4 | Fetching Post metadata failed.\n"
     ]
    },
    {
     "name": "stderr",
     "output_type": "stream",
     "text": [
      "JSON Query to graphql/query: 403 Forbidden when accessing https://www.instagram.com/graphql/query [retrying; skip with ^C]\n"
     ]
    },
    {
     "name": "stdout",
     "output_type": "stream",
     "text": [
      "failed downloading https://www.instagram.com/reel/DM0ChALScuv/?igsh=MWphajVsYzFvMWcydg== -> 166.mp4 | Fetching Post metadata failed.\n"
     ]
    },
    {
     "name": "stderr",
     "output_type": "stream",
     "text": [
      "JSON Query to graphql/query: 403 Forbidden when accessing https://www.instagram.com/graphql/query [retrying; skip with ^C]\n"
     ]
    },
    {
     "name": "stdout",
     "output_type": "stream",
     "text": [
      "Downloaded video to data/test\\167.mp4\n"
     ]
    },
    {
     "name": "stderr",
     "output_type": "stream",
     "text": [
      "JSON Query to graphql/query: 403 Forbidden when accessing https://www.instagram.com/graphql/query [retrying; skip with ^C]\n"
     ]
    },
    {
     "name": "stdout",
     "output_type": "stream",
     "text": [
      "Downloaded video to data/test\\168.mp4\n"
     ]
    },
    {
     "name": "stderr",
     "output_type": "stream",
     "text": [
      "JSON Query to graphql/query: 403 Forbidden when accessing https://www.instagram.com/graphql/query [retrying; skip with ^C]\n"
     ]
    },
    {
     "name": "stdout",
     "output_type": "stream",
     "text": [
      "failed downloading https://instagram.fcgk8-1.fna.fbcdn.net/o1/v/t2/f2/m86/AQP6HDfQjZz7SRs_2z2nBaaSuHiQN9ydTUzRawsVrJbVek-MLSE2zEIJEcaws0RUC0VVxoz9I4VKdaBRo0x9wmNwQPGy9iNApUZgF2Q.mp4?_nc_cat=111&_nc_oc=AdmTtm8eZR1PXSXclXxw9G6N5Rb9Q3BempUwIOcLhivS7mqd2wUWvHdHQUzSD_T55O_RyioFtNaPFI5a37YU5hgp&_nc_sid=5e9851&_nc_ht=instagram.fcgk8-1.fna.fbcdn.net&_nc_ohc=Fq6NAX_hfyMQ7kNvwFhNhAg&efg=eyJ2ZW5jb2RlX3RhZyI6Inhwdl9wcm9ncmVzc2l2ZS5JTlNUQUdSQU0uQ0xJUFMuQzMuMTI3OC5kYXNoX2Jhc2VsaW5lXzFfdjEiLCJ4cHZfYXNzZXRfaWQiOjI3ODE5NDg4ODUzMDg4NjQsInZpX3VzZWNhc2VfaWQiOjEwMDk5LCJkdXJhdGlvbl9zIjoxMDUsInVybGdlbl9zb3VyY2UiOiJ3d3cifQ%3D%3D&ccb=17-1&vs=9b8e2f376d2dcee1&_nc_vs=HBksFQIYUmlnX3hwdl9yZWVsc19wZXJtYW5lbnRfc3JfcHJvZC9ENjQwNUUzNDg3NUEzMkNBQjNBNEQ2RTk5ODVDMTk5OV92aWRlb19kYXNoaW5pdC5tcDQVAALIARIAFQIYOnBhc3N0aHJvdWdoX2V2ZXJzdG9yZS9HUEhqWFI5Nm1rbXNfc1lIQU1MTTNybXZSZlVJYnFfRUFBQUYVAgLIARIAKAAYABsCiAd1c2Vfb2lsATEScHJvZ3Jlc3NpdmVfcmVjaXBlATEVAAAmgNe8sd6K8QkVAigCQzMsF0BaeZmZmZmaGBJkYXNoX2Jhc2VsaW5lXzFfdjERAHX-B2XmnQEA&_nc_gid=yKFMa1EztZvjZ3uABwn3HA&_nc_zt=28&oh=00_AfVmwLS0dRYhn882VChf5KBvv3NKost8EiVBPGcll8dBwg&oe=689B57D8, https://instagram.fcgk8-1.fna.fbcdn.net/o1/v/t2/f2/m86/AQP6HDfQjZz7SRs_2z2nBaaSuHiQN9ydTUzRawsVrJbVek-MLSE2zEIJEcaws0RUC0VVxoz9I4VKdaBRo0x9wmNwQPGy9iNApUZgF2Q.mp4?_nc_cat=111&_nc_oc=AdmTtm8eZR1PXSXclXxw9G6N5Rb9Q3BempUwIOcLhivS7mqd2wUWvHdHQUzSD_T55O_RyioFtNaPFI5a37YU5hgp&_nc_sid=5e9851&_nc_ht=instagram.fcgk8-1.fna.fbcdn.net&_nc_ohc=Fq6NAX_hfyMQ7kNvwFhNhAg&efg=eyJ2ZW5jb2RlX3RhZyI6Inhwdl9wcm9ncmVzc2l2ZS5JTlNUQUdSQU0uQ0xJUFMuQzMuMTI3OC5kYXNoX2Jhc2VsaW5lXzFfdjEiLCJ4cHZfYXNzZXRfaWQiOjI3ODE5NDg4ODUzMDg4NjQsInZpX3VzZWNhc2VfaWQiOjEwMDk5LCJkdXJhdGlvbl9zIjoxMDUsInVybGdlbl9zb3VyY2UiOiJ3d3cifQ%3D%3D&ccb=17-1&vs=9b8e2f376d2dcee1&_nc_vs=HBksFQIYUmlnX3hwdl9yZWVsc19wZXJtYW5lbnRfc3JfcHJvZC9ENjQwNUUzNDg3NUEzMkNBQjNBNEQ2RTk5ODVDMTk5OV92aWRlb19kYXNoaW5pdC5tcDQVAALIARIAFQIYOnBhc3N0aHJvdWdoX2V2ZXJzdG9yZS9HUEhqWFI5Nm1rbXNfc1lIQU1MTTNybXZSZlVJYnFfRUFBQUYVAgLIARIAKAAYABsCiAd1c2Vfb2lsATEScHJvZ3Jlc3NpdmVfcmVjaXBlATEVAAAmgNe8sd6K8QkVAigCQzMsF0BaeZmZmZmaGBJkYXNoX2Jhc2VsaW5lXzFfdjERAHX-B2XmnQEA&_nc_gid=yKFMa1EztZvjZ3uABwn3HA&_nc_zt=28&oh=00_AfVmwLS0dRYhn882VChf5KBvv3NKost8EiVBPGcll8dBwg&oe=689B57D8, https://instagram.fcgk8-1.fna.fbcdn.net/o1/v/t2/f2/m86/AQP6HDfQjZz7SRs_2z2nBaaSuHiQN9ydTUzRawsVrJbVek-MLSE2zEIJEcaws0RUC0VVxoz9I4VKdaBRo0x9wmNwQPGy9iNApUZgF2Q.mp4?_nc_cat=111&_nc_oc=AdmTtm8eZR1PXSXclXxw9G6N5Rb9Q3BempUwIOcLhivS7mqd2wUWvHdHQUzSD_T55O_RyioFtNaPFI5a37YU5hgp&_nc_sid=5e9851&_nc_ht=instagram.fcgk8-1.fna.fbcdn.net&_nc_ohc=Fq6NAX_hfyMQ7kNvwFhNhAg&efg=eyJ2ZW5jb2RlX3RhZyI6Inhwdl9wcm9ncmVzc2l2ZS5JTlNUQUdSQU0uQ0xJUFMuQzMuMTI3OC5kYXNoX2Jhc2VsaW5lXzFfdjEiLCJ4cHZfYXNzZXRfaWQiOjI3ODE5NDg4ODUzMDg4NjQsInZpX3VzZWNhc2VfaWQiOjEwMDk5LCJkdXJhdGlvbl9zIjoxMDUsInVybGdlbl9zb3VyY2UiOiJ3d3cifQ%3D%3D&ccb=17-1&vs=9b8e2f376d2dcee1&_nc_vs=HBksFQIYUmlnX3hwdl9yZWVsc19wZXJtYW5lbnRfc3JfcHJvZC9ENjQwNUUzNDg3NUEzMkNBQjNBNEQ2RTk5ODVDMTk5OV92aWRlb19kYXNoaW5pdC5tcDQVAALIARIAFQIYOnBhc3N0aHJvdWdoX2V2ZXJzdG9yZS9HUEhqWFI5Nm1rbXNfc1lIQU1MTTNybXZSZlVJYnFfRUFBQUYVAgLIARIAKAAYABsCiAd1c2Vfb2lsATEScHJvZ3Jlc3NpdmVfcmVjaXBlATEVAAAmgNe8sd6K8QkVAigCQzMsF0BaeZmZmZmaGBJkYXNoX2Jhc2VsaW5lXzFfdjERAHX-B2XmnQEA&_nc_gid=yKFMa1EztZvjZ3uABwn3HA&_nc_zt=28&oh=00_AfVmwLS0dRYhn882VChf5KBvv3NKost8EiVBPGcll8dBwg&oe=689B57D8 -> 169.mp4 | Fetching Post metadata failed.\n"
     ]
    },
    {
     "name": "stderr",
     "output_type": "stream",
     "text": [
      "JSON Query to graphql/query: 403 Forbidden when accessing https://www.instagram.com/graphql/query [retrying; skip with ^C]\n"
     ]
    },
    {
     "name": "stdout",
     "output_type": "stream",
     "text": [
      "failed downloading https://instagram.fcgk38-1.fna.fbcdn.net/o1/v/t2/f2/m86/AQN_zYx0y2arbT_hsqxzaVahpPYwzIiu2fb8Mn3wxx7e5ap5_iwRJwBdtPzy5CDXxDqslabGCXsv8lnHOMaFORBSKBO3drsnlfvi4mY.mp4?_nc_cat=103&_nc_oc=Adn07imuhlnEp9PT4pLBDcR79M6E-ake0kCHNoCDmUHxbkfTgxF9oH_X--cLaOxain4QpV6l6QuuBJ1EvoIuYgS8&_nc_sid=5e9851&_nc_ht=instagram.fcgk38-1.fna.fbcdn.net&_nc_ohc=3Buz1nY5I7AQ7kNvwF79gw-&efg=eyJ2ZW5jb2RlX3RhZyI6Inhwdl9wcm9ncmVzc2l2ZS5JTlNUQUdSQU0uQ0xJUFMuQzMuNzIwLmRhc2hfYmFzZWxpbmVfMV92MSIsInhwdl9hc3NldF9pZCI6MTk1ODQ0NDE2MTU3ODU1NCwidmlfdXNlY2FzZV9pZCI6MTAwOTksImR1cmF0aW9uX3MiOjM5LCJ1cmxnZW5fc291cmNlIjoid3d3In0%3D&ccb=17-1&vs=d67b066dcecfa0db&_nc_vs=HBksFQIYUmlnX3hwdl9yZWVsc19wZXJtYW5lbnRfc3JfcHJvZC8wNzQ4Nzc2QjEwODc5MEVEQTZFMjdCNkRFNjdGNzY5RV92aWRlb19kYXNoaW5pdC5tcDQVAALIARIAFQIYOnBhc3N0aHJvdWdoX2V2ZXJzdG9yZS9HTEx0OVI0UGlXQmdZT01FQVBWSEVROGhoNjViYnFfRUFBQUYVAgLIARIAKAAYABsCiAd1c2Vfb2lsATEScHJvZ3Jlc3NpdmVfcmVjaXBlATEVAAAm9NiBibrM-gYVAigCQzMsF0BDrtkWhysCGBJkYXNoX2Jhc2VsaW5lXzFfdjERAHX-B2XmnQEA&_nc_gid=Pp0OH6qhovJrRCwYgrIvEA&_nc_zt=28&oh=00_AfV6zOtn6qcTTWuGCxDNut2rrK7IdnUEBkIwn8wMMSFvbA&oe=689B4570, https://instagram.fcgk38-1.fna.fbcdn.net/o1/v/t2/f2/m86/AQN_zYx0y2arbT_hsqxzaVahpPYwzIiu2fb8Mn3wxx7e5ap5_iwRJwBdtPzy5CDXxDqslabGCXsv8lnHOMaFORBSKBO3drsnlfvi4mY.mp4?_nc_cat=103&_nc_oc=Adn07imuhlnEp9PT4pLBDcR79M6E-ake0kCHNoCDmUHxbkfTgxF9oH_X--cLaOxain4QpV6l6QuuBJ1EvoIuYgS8&_nc_sid=5e9851&_nc_ht=instagram.fcgk38-1.fna.fbcdn.net&_nc_ohc=3Buz1nY5I7AQ7kNvwF79gw-&efg=eyJ2ZW5jb2RlX3RhZyI6Inhwdl9wcm9ncmVzc2l2ZS5JTlNUQUdSQU0uQ0xJUFMuQzMuNzIwLmRhc2hfYmFzZWxpbmVfMV92MSIsInhwdl9hc3NldF9pZCI6MTk1ODQ0NDE2MTU3ODU1NCwidmlfdXNlY2FzZV9pZCI6MTAwOTksImR1cmF0aW9uX3MiOjM5LCJ1cmxnZW5fc291cmNlIjoid3d3In0%3D&ccb=17-1&vs=d67b066dcecfa0db&_nc_vs=HBksFQIYUmlnX3hwdl9yZWVsc19wZXJtYW5lbnRfc3JfcHJvZC8wNzQ4Nzc2QjEwODc5MEVEQTZFMjdCNkRFNjdGNzY5RV92aWRlb19kYXNoaW5pdC5tcDQVAALIARIAFQIYOnBhc3N0aHJvdWdoX2V2ZXJzdG9yZS9HTEx0OVI0UGlXQmdZT01FQVBWSEVROGhoNjViYnFfRUFBQUYVAgLIARIAKAAYABsCiAd1c2Vfb2lsATEScHJvZ3Jlc3NpdmVfcmVjaXBlATEVAAAm9NiBibrM-gYVAigCQzMsF0BDrtkWhysCGBJkYXNoX2Jhc2VsaW5lXzFfdjERAHX-B2XmnQEA&_nc_gid=Pp0OH6qhovJrRCwYgrIvEA&_nc_zt=28&oh=00_AfV6zOtn6qcTTWuGCxDNut2rrK7IdnUEBkIwn8wMMSFvbA&oe=689B4570, https://instagram.fcgk38-1.fna.fbcdn.net/o1/v/t2/f2/m86/AQN_zYx0y2arbT_hsqxzaVahpPYwzIiu2fb8Mn3wxx7e5ap5_iwRJwBdtPzy5CDXxDqslabGCXsv8lnHOMaFORBSKBO3drsnlfvi4mY.mp4?_nc_cat=103&_nc_oc=Adn07imuhlnEp9PT4pLBDcR79M6E-ake0kCHNoCDmUHxbkfTgxF9oH_X--cLaOxain4QpV6l6QuuBJ1EvoIuYgS8&_nc_sid=5e9851&_nc_ht=instagram.fcgk38-1.fna.fbcdn.net&_nc_ohc=3Buz1nY5I7AQ7kNvwF79gw-&efg=eyJ2ZW5jb2RlX3RhZyI6Inhwdl9wcm9ncmVzc2l2ZS5JTlNUQUdSQU0uQ0xJUFMuQzMuNzIwLmRhc2hfYmFzZWxpbmVfMV92MSIsInhwdl9hc3NldF9pZCI6MTk1ODQ0NDE2MTU3ODU1NCwidmlfdXNlY2FzZV9pZCI6MTAwOTksImR1cmF0aW9uX3MiOjM5LCJ1cmxnZW5fc291cmNlIjoid3d3In0%3D&ccb=17-1&vs=d67b066dcecfa0db&_nc_vs=HBksFQIYUmlnX3hwdl9yZWVsc19wZXJtYW5lbnRfc3JfcHJvZC8wNzQ4Nzc2QjEwODc5MEVEQTZFMjdCNkRFNjdGNzY5RV92aWRlb19kYXNoaW5pdC5tcDQVAALIARIAFQIYOnBhc3N0aHJvdWdoX2V2ZXJzdG9yZS9HTEx0OVI0UGlXQmdZT01FQVBWSEVROGhoNjViYnFfRUFBQUYVAgLIARIAKAAYABsCiAd1c2Vfb2lsATEScHJvZ3Jlc3NpdmVfcmVjaXBlATEVAAAm9NiBibrM-gYVAigCQzMsF0BDrtkWhysCGBJkYXNoX2Jhc2VsaW5lXzFfdjERAHX-B2XmnQEA&_nc_gid=Pp0OH6qhovJrRCwYgrIvEA&_nc_zt=28&oh=00_AfV6zOtn6qcTTWuGCxDNut2rrK7IdnUEBkIwn8wMMSFvbA&oe=689B4570 -> 170.mp4 | Fetching Post metadata failed.\n"
     ]
    },
    {
     "name": "stderr",
     "output_type": "stream",
     "text": [
      "JSON Query to graphql/query: 403 Forbidden when accessing https://www.instagram.com/graphql/query [retrying; skip with ^C]\n"
     ]
    },
    {
     "name": "stdout",
     "output_type": "stream",
     "text": [
      "failed downloading https://scontent-cgk2-2.cdninstagram.com/o1/v/t2/f2/m86/AQNrncuAML1bATywJCW80-_43gc836HJQvpOEoqo4UmaQPix9DJ9ePRxesamoE85vKW2l7e2MWQkx3qXnPevLmpv3XMKMeQ0Rd5VoIM.mp4?_nc_cat=105&_nc_sid=5e9851&_nc_ht=scontent-cgk2-2.cdninstagram.com&_nc_ohc=wTNdvF_Q89cQ7kNvwFX7W3_&efg=eyJ2ZW5jb2RlX3RhZyI6Inhwdl9wcm9ncmVzc2l2ZS5JTlNUQUdSQU0uQ0xJUFMuQzMuNzIwLmRhc2hfYmFzZWxpbmVfMV92MSIsInhwdl9hc3NldF9pZCI6NDI3MTMwMjMyMzEwNjAxMiwidmlfdXNlY2FzZV9pZCI6MTAwOTksImR1cmF0aW9uX3MiOjgzLCJ1cmxnZW5fc291cmNlIjoid3d3In0%3D&ccb=17-1&vs=7bc8ec3e30b857f9&_nc_vs=HBksFQIYUmlnX3hwdl9yZWVsc19wZXJtYW5lbnRfc3JfcHJvZC8wNDQ5NzE2REVFQzI1MDAyMDQ3NDI4MEVCOEE5NTlBMF92aWRlb19kYXNoaW5pdC5tcDQVAALIARIAFQIYOnBhc3N0aHJvdWdoX2V2ZXJzdG9yZS9HSWhDVng5bTRUMHowWmdFQUh2LVdfZXJPX3dvYnFfRUFBQUYVAgLIARIAKAAYABsCiAd1c2Vfb2lsATEScHJvZ3Jlc3NpdmVfcmVjaXBlATEVAAAmuMOTm8Kulg8VAigCQzMsF0BU7MzMzMzNGBJkYXNoX2Jhc2VsaW5lXzFfdjERAHX-B2XmnQEA&_nc_zt=28&oh=00_AfUGDWJAug1PMMrJGXkInj3GKG6xkyjyepRTqhiaqY2hpA&oe=689B7082, https://scontent-cgk2-2.cdninstagram.com/o1/v/t2/f2/m86/AQNrncuAML1bATywJCW80-_43gc836HJQvpOEoqo4UmaQPix9DJ9ePRxesamoE85vKW2l7e2MWQkx3qXnPevLmpv3XMKMeQ0Rd5VoIM.mp4?_nc_cat=105&_nc_sid=5e9851&_nc_ht=scontent-cgk2-2.cdninstagram.com&_nc_ohc=wTNdvF_Q89cQ7kNvwFX7W3_&efg=eyJ2ZW5jb2RlX3RhZyI6Inhwdl9wcm9ncmVzc2l2ZS5JTlNUQUdSQU0uQ0xJUFMuQzMuNzIwLmRhc2hfYmFzZWxpbmVfMV92MSIsInhwdl9hc3NldF9pZCI6NDI3MTMwMjMyMzEwNjAxMiwidmlfdXNlY2FzZV9pZCI6MTAwOTksImR1cmF0aW9uX3MiOjgzLCJ1cmxnZW5fc291cmNlIjoid3d3In0%3D&ccb=17-1&vs=7bc8ec3e30b857f9&_nc_vs=HBksFQIYUmlnX3hwdl9yZWVsc19wZXJtYW5lbnRfc3JfcHJvZC8wNDQ5NzE2REVFQzI1MDAyMDQ3NDI4MEVCOEE5NTlBMF92aWRlb19kYXNoaW5pdC5tcDQVAALIARIAFQIYOnBhc3N0aHJvdWdoX2V2ZXJzdG9yZS9HSWhDVng5bTRUMHowWmdFQUh2LVdfZXJPX3dvYnFfRUFBQUYVAgLIARIAKAAYABsCiAd1c2Vfb2lsATEScHJvZ3Jlc3NpdmVfcmVjaXBlATEVAAAmuMOTm8Kulg8VAigCQzMsF0BU7MzMzMzNGBJkYXNoX2Jhc2VsaW5lXzFfdjERAHX-B2XmnQEA&_nc_zt=28&oh=00_AfUGDWJAug1PMMrJGXkInj3GKG6xkyjyepRTqhiaqY2hpA&oe=689B7082, https://scontent-cgk2-2.cdninstagram.com/o1/v/t2/f2/m86/AQNrncuAML1bATywJCW80-_43gc836HJQvpOEoqo4UmaQPix9DJ9ePRxesamoE85vKW2l7e2MWQkx3qXnPevLmpv3XMKMeQ0Rd5VoIM.mp4?_nc_cat=105&_nc_sid=5e9851&_nc_ht=scontent-cgk2-2.cdninstagram.com&_nc_ohc=wTNdvF_Q89cQ7kNvwFX7W3_&efg=eyJ2ZW5jb2RlX3RhZyI6Inhwdl9wcm9ncmVzc2l2ZS5JTlNUQUdSQU0uQ0xJUFMuQzMuNzIwLmRhc2hfYmFzZWxpbmVfMV92MSIsInhwdl9hc3NldF9pZCI6NDI3MTMwMjMyMzEwNjAxMiwidmlfdXNlY2FzZV9pZCI6MTAwOTksImR1cmF0aW9uX3MiOjgzLCJ1cmxnZW5fc291cmNlIjoid3d3In0%3D&ccb=17-1&vs=7bc8ec3e30b857f9&_nc_vs=HBksFQIYUmlnX3hwdl9yZWVsc19wZXJtYW5lbnRfc3JfcHJvZC8wNDQ5NzE2REVFQzI1MDAyMDQ3NDI4MEVCOEE5NTlBMF92aWRlb19kYXNoaW5pdC5tcDQVAALIARIAFQIYOnBhc3N0aHJvdWdoX2V2ZXJzdG9yZS9HSWhDVng5bTRUMHowWmdFQUh2LVdfZXJPX3dvYnFfRUFBQUYVAgLIARIAKAAYABsCiAd1c2Vfb2lsATEScHJvZ3Jlc3NpdmVfcmVjaXBlATEVAAAmuMOTm8Kulg8VAigCQzMsF0BU7MzMzMzNGBJkYXNoX2Jhc2VsaW5lXzFfdjERAHX-B2XmnQEA&_nc_zt=28&oh=00_AfUGDWJAug1PMMrJGXkInj3GKG6xkyjyepRTqhiaqY2hpA&oe=689B7082 -> 171.mp4 | Fetching Post metadata failed.\n"
     ]
    },
    {
     "name": "stderr",
     "output_type": "stream",
     "text": [
      "JSON Query to graphql/query: 403 Forbidden when accessing https://www.instagram.com/graphql/query [retrying; skip with ^C]\n"
     ]
    },
    {
     "name": "stdout",
     "output_type": "stream",
     "text": [
      "failed downloading https://scontent-cgk1-2.cdninstagram.com/o1/v/t2/f2/m86/AQPgqptglHB1Bj0s2Z6p5TLy4snDQMA30S_zn6SQDRcmnhz9BpcXFKrkQ3rnlnjl641jEl07Fi6Nzir0uuzT_ihH7Fg2pxiPx5pTacI.mp4?_nc_cat=111&_nc_sid=5e9851&_nc_ht=scontent-cgk1-2.cdninstagram.com&_nc_ohc=DWcNE94vkYEQ7kNvwEQgqwG&efg=eyJ2ZW5jb2RlX3RhZyI6Inhwdl9wcm9ncmVzc2l2ZS5JTlNUQUdSQU0uQ0xJUFMuQzMuNzIwLmRhc2hfYmFzZWxpbmVfMV92MSIsInhwdl9hc3NldF9pZCI6NzcwMzg0NTMyMjM1OTkxLCJ2aV91c2VjYXNlX2lkIjoxMDA5OSwiZHVyYXRpb25fcyI6NTQsInVybGdlbl9zb3VyY2UiOiJ3d3cifQ%3D%3D&ccb=17-1&vs=31d4ef72734f7e23&_nc_vs=HBksFQIYUmlnX3hwdl9yZWVsc19wZXJtYW5lbnRfc3JfcHJvZC9GQjRCNkM4MTM1N0IzQzBBNjkxOUFCRDY0MDY5MkZBNl92aWRlb19kYXNoaW5pdC5tcDQVAALIARIAFQIYOnBhc3N0aHJvdWdoX2V2ZXJzdG9yZS9HTDY3alJfTE9OTzRTVVVGQUttOGFBZlBYLXd2YnFfRUFBQUYVAgLIARIAKAAYABsCiAd1c2Vfb2lsATEScHJvZ3Jlc3NpdmVfcmVjaXBlATEVAAAmrpuThqSq3gIVAigCQzMsF0BLTMzMzMzNGBJkYXNoX2Jhc2VsaW5lXzFfdjERAHX-B2XmnQEA&_nc_gid=yIY0ergPnOKuwJYHshc1MQ&_nc_zt=28&oh=00_AfXja2nBgEvFtnLOsrZoBo_5nCV7vfn2i9JvqAVRHs5FgA&oe=689B7DC8, https://scontent-cgk1-2.cdninstagram.com/o1/v/t2/f2/m86/AQPgqptglHB1Bj0s2Z6p5TLy4snDQMA30S_zn6SQDRcmnhz9BpcXFKrkQ3rnlnjl641jEl07Fi6Nzir0uuzT_ihH7Fg2pxiPx5pTacI.mp4?_nc_cat=111&_nc_sid=5e9851&_nc_ht=scontent-cgk1-2.cdninstagram.com&_nc_ohc=DWcNE94vkYEQ7kNvwEQgqwG&efg=eyJ2ZW5jb2RlX3RhZyI6Inhwdl9wcm9ncmVzc2l2ZS5JTlNUQUdSQU0uQ0xJUFMuQzMuNzIwLmRhc2hfYmFzZWxpbmVfMV92MSIsInhwdl9hc3NldF9pZCI6NzcwMzg0NTMyMjM1OTkxLCJ2aV91c2VjYXNlX2lkIjoxMDA5OSwiZHVyYXRpb25fcyI6NTQsInVybGdlbl9zb3VyY2UiOiJ3d3cifQ%3D%3D&ccb=17-1&vs=31d4ef72734f7e23&_nc_vs=HBksFQIYUmlnX3hwdl9yZWVsc19wZXJtYW5lbnRfc3JfcHJvZC9GQjRCNkM4MTM1N0IzQzBBNjkxOUFCRDY0MDY5MkZBNl92aWRlb19kYXNoaW5pdC5tcDQVAALIARIAFQIYOnBhc3N0aHJvdWdoX2V2ZXJzdG9yZS9HTDY3alJfTE9OTzRTVVVGQUttOGFBZlBYLXd2YnFfRUFBQUYVAgLIARIAKAAYABsCiAd1c2Vfb2lsATEScHJvZ3Jlc3NpdmVfcmVjaXBlATEVAAAmrpuThqSq3gIVAigCQzMsF0BLTMzMzMzNGBJkYXNoX2Jhc2VsaW5lXzFfdjERAHX-B2XmnQEA&_nc_gid=yIY0ergPnOKuwJYHshc1MQ&_nc_zt=28&oh=00_AfXja2nBgEvFtnLOsrZoBo_5nCV7vfn2i9JvqAVRHs5FgA&oe=689B7DC8, https://scontent-cgk1-2.cdninstagram.com/o1/v/t2/f2/m86/AQPgqptglHB1Bj0s2Z6p5TLy4snDQMA30S_zn6SQDRcmnhz9BpcXFKrkQ3rnlnjl641jEl07Fi6Nzir0uuzT_ihH7Fg2pxiPx5pTacI.mp4?_nc_cat=111&_nc_sid=5e9851&_nc_ht=scontent-cgk1-2.cdninstagram.com&_nc_ohc=DWcNE94vkYEQ7kNvwEQgqwG&efg=eyJ2ZW5jb2RlX3RhZyI6Inhwdl9wcm9ncmVzc2l2ZS5JTlNUQUdSQU0uQ0xJUFMuQzMuNzIwLmRhc2hfYmFzZWxpbmVfMV92MSIsInhwdl9hc3NldF9pZCI6NzcwMzg0NTMyMjM1OTkxLCJ2aV91c2VjYXNlX2lkIjoxMDA5OSwiZHVyYXRpb25fcyI6NTQsInVybGdlbl9zb3VyY2UiOiJ3d3cifQ%3D%3D&ccb=17-1&vs=31d4ef72734f7e23&_nc_vs=HBksFQIYUmlnX3hwdl9yZWVsc19wZXJtYW5lbnRfc3JfcHJvZC9GQjRCNkM4MTM1N0IzQzBBNjkxOUFCRDY0MDY5MkZBNl92aWRlb19kYXNoaW5pdC5tcDQVAALIARIAFQIYOnBhc3N0aHJvdWdoX2V2ZXJzdG9yZS9HTDY3alJfTE9OTzRTVVVGQUttOGFBZlBYLXd2YnFfRUFBQUYVAgLIARIAKAAYABsCiAd1c2Vfb2lsATEScHJvZ3Jlc3NpdmVfcmVjaXBlATEVAAAmrpuThqSq3gIVAigCQzMsF0BLTMzMzMzNGBJkYXNoX2Jhc2VsaW5lXzFfdjERAHX-B2XmnQEA&_nc_gid=yIY0ergPnOKuwJYHshc1MQ&_nc_zt=28&oh=00_AfXja2nBgEvFtnLOsrZoBo_5nCV7vfn2i9JvqAVRHs5FgA&oe=689B7DC8 -> 172.mp4 | Fetching Post metadata failed.\n"
     ]
    },
    {
     "name": "stderr",
     "output_type": "stream",
     "text": [
      "JSON Query to graphql/query: 403 Forbidden when accessing https://www.instagram.com/graphql/query [retrying; skip with ^C]\n"
     ]
    },
    {
     "name": "stdout",
     "output_type": "stream",
     "text": [
      "Downloaded video to data/test\\173.mp4\n"
     ]
    },
    {
     "name": "stderr",
     "output_type": "stream",
     "text": [
      "JSON Query to graphql/query: 403 Forbidden when accessing https://www.instagram.com/graphql/query [retrying; skip with ^C]\n"
     ]
    },
    {
     "name": "stdout",
     "output_type": "stream",
     "text": [
      "Downloaded video to data/test\\174.mp4\n"
     ]
    },
    {
     "name": "stderr",
     "output_type": "stream",
     "text": [
      "JSON Query to graphql/query: 403 Forbidden when accessing https://www.instagram.com/graphql/query [retrying; skip with ^C]\n"
     ]
    },
    {
     "name": "stdout",
     "output_type": "stream",
     "text": [
      "Downloaded video to data/test\\175.mp4\n"
     ]
    },
    {
     "name": "stderr",
     "output_type": "stream",
     "text": [
      "JSON Query to graphql/query: 403 Forbidden when accessing https://www.instagram.com/graphql/query [retrying; skip with ^C]\n"
     ]
    },
    {
     "name": "stdout",
     "output_type": "stream",
     "text": [
      "Downloaded video to data/test\\176.mp4\n"
     ]
    },
    {
     "name": "stderr",
     "output_type": "stream",
     "text": [
      "JSON Query to graphql/query: 403 Forbidden when accessing https://www.instagram.com/graphql/query [retrying; skip with ^C]\n"
     ]
    },
    {
     "name": "stdout",
     "output_type": "stream",
     "text": [
      "Downloaded video to data/test\\177.mp4\n"
     ]
    },
    {
     "name": "stderr",
     "output_type": "stream",
     "text": [
      "JSON Query to graphql/query: 403 Forbidden when accessing https://www.instagram.com/graphql/query [retrying; skip with ^C]\n"
     ]
    },
    {
     "name": "stdout",
     "output_type": "stream",
     "text": [
      "Downloaded video to data/test\\178.mp4\n"
     ]
    },
    {
     "name": "stderr",
     "output_type": "stream",
     "text": [
      "JSON Query to graphql/query: 403 Forbidden when accessing https://www.instagram.com/graphql/query [retrying; skip with ^C]\n"
     ]
    },
    {
     "name": "stdout",
     "output_type": "stream",
     "text": [
      "Downloaded video to data/test\\179.mp4\n"
     ]
    },
    {
     "name": "stderr",
     "output_type": "stream",
     "text": [
      "JSON Query to graphql/query: 403 Forbidden when accessing https://www.instagram.com/graphql/query [retrying; skip with ^C]\n"
     ]
    },
    {
     "name": "stdout",
     "output_type": "stream",
     "text": [
      "Downloaded video to data/test\\180.mp4\n"
     ]
    },
    {
     "name": "stderr",
     "output_type": "stream",
     "text": [
      "JSON Query to graphql/query: 403 Forbidden when accessing https://www.instagram.com/graphql/query [retrying; skip with ^C]\n"
     ]
    },
    {
     "name": "stdout",
     "output_type": "stream",
     "text": [
      "Downloaded video to data/test\\181.mp4\n"
     ]
    },
    {
     "name": "stderr",
     "output_type": "stream",
     "text": [
      "JSON Query to graphql/query: 403 Forbidden when accessing https://www.instagram.com/graphql/query [retrying; skip with ^C]\n"
     ]
    },
    {
     "name": "stdout",
     "output_type": "stream",
     "text": [
      "Downloaded video to data/test\\182.mp4\n"
     ]
    },
    {
     "name": "stderr",
     "output_type": "stream",
     "text": [
      "JSON Query to graphql/query: 403 Forbidden when accessing https://www.instagram.com/graphql/query [retrying; skip with ^C]\n"
     ]
    },
    {
     "name": "stdout",
     "output_type": "stream",
     "text": [
      "Downloaded video to data/test\\183.mp4\n"
     ]
    },
    {
     "name": "stderr",
     "output_type": "stream",
     "text": [
      "Downloading...\n",
      "From: https://drive.google.com/uc?id=1mLN0aGbjgAFOkC4hQXo_vR20cHVlP05A\n",
      "To: c:\\Users\\Adli\\Desktop\\ilegil\\bintangkecilmama\\satria-data-2025\\data\\test\\184.mp4\n",
      "100%|██████████| 6.13M/6.13M [00:00<00:00, 9.13MB/s]\n"
     ]
    },
    {
     "name": "stdout",
     "output_type": "stream",
     "text": [
      "Downloaded Google Drive file to data/test\\184.mp4\n"
     ]
    },
    {
     "name": "stderr",
     "output_type": "stream",
     "text": [
      "Downloading...\n",
      "From: https://drive.google.com/uc?id=1hqV23imz-CZ1PvjD5D6VBYAfKMcnQsl6\n",
      "To: c:\\Users\\Adli\\Desktop\\ilegil\\bintangkecilmama\\satria-data-2025\\data\\test\\185.mp4\n",
      "100%|██████████| 23.4M/23.4M [00:01<00:00, 13.4MB/s]\n"
     ]
    },
    {
     "name": "stdout",
     "output_type": "stream",
     "text": [
      "Downloaded Google Drive file to data/test\\185.mp4\n"
     ]
    },
    {
     "name": "stderr",
     "output_type": "stream",
     "text": [
      "Downloading...\n",
      "From: https://drive.google.com/uc?id=1lWWp2V4PPrrCe5oqFnES74tQraNiNl2I\n",
      "To: c:\\Users\\Adli\\Desktop\\ilegil\\bintangkecilmama\\satria-data-2025\\data\\test\\186.mp4\n",
      "100%|██████████| 21.9M/21.9M [00:03<00:00, 6.63MB/s]\n"
     ]
    },
    {
     "name": "stdout",
     "output_type": "stream",
     "text": [
      "Downloaded Google Drive file to data/test\\186.mp4\n"
     ]
    },
    {
     "name": "stderr",
     "output_type": "stream",
     "text": [
      "Downloading...\n",
      "From: https://drive.google.com/uc?id=1xdNwtzW3NkRnczPZMlvWKNiXK0AVOb8q\n",
      "To: c:\\Users\\Adli\\Desktop\\ilegil\\bintangkecilmama\\satria-data-2025\\data\\test\\187.mp4\n",
      "100%|██████████| 19.5M/19.5M [00:02<00:00, 7.64MB/s]\n"
     ]
    },
    {
     "name": "stdout",
     "output_type": "stream",
     "text": [
      "Downloaded Google Drive file to data/test\\187.mp4\n"
     ]
    },
    {
     "name": "stderr",
     "output_type": "stream",
     "text": [
      "Downloading...\n",
      "From: https://drive.google.com/uc?id=1Szy2uHW3fbw_8cXU9dd3gVhnMMyKQwbE\n",
      "To: c:\\Users\\Adli\\Desktop\\ilegil\\bintangkecilmama\\satria-data-2025\\data\\test\\188.mp4\n",
      "100%|██████████| 39.4M/39.4M [00:03<00:00, 12.1MB/s]\n"
     ]
    },
    {
     "name": "stdout",
     "output_type": "stream",
     "text": [
      "Downloaded Google Drive file to data/test\\188.mp4\n"
     ]
    },
    {
     "name": "stderr",
     "output_type": "stream",
     "text": [
      "Downloading...\n",
      "From: https://drive.google.com/uc?id=1UoIpEESJpYhl6ktsFX0l1Q_lGS2JQE4a\n",
      "To: c:\\Users\\Adli\\Desktop\\ilegil\\bintangkecilmama\\satria-data-2025\\data\\test\\189.mp4\n",
      "100%|██████████| 13.1M/13.1M [00:01<00:00, 12.0MB/s]\n"
     ]
    },
    {
     "name": "stdout",
     "output_type": "stream",
     "text": [
      "Downloaded Google Drive file to data/test\\189.mp4\n"
     ]
    },
    {
     "name": "stderr",
     "output_type": "stream",
     "text": [
      "Downloading...\n",
      "From: https://drive.google.com/uc?id=1NIWRtQwRup1CXoykRSIJBBAvrMr-Ochv\n",
      "To: c:\\Users\\Adli\\Desktop\\ilegil\\bintangkecilmama\\satria-data-2025\\data\\test\\190.mp4\n",
      "100%|██████████| 11.1M/11.1M [00:01<00:00, 10.8MB/s]\n"
     ]
    },
    {
     "name": "stdout",
     "output_type": "stream",
     "text": [
      "Downloaded Google Drive file to data/test\\190.mp4\n"
     ]
    },
    {
     "name": "stderr",
     "output_type": "stream",
     "text": [
      "Downloading...\n",
      "From: https://drive.google.com/uc?id=1DSfKv-iiVhftQ6Cz3v_qu7pop9WfQvWO\n",
      "To: c:\\Users\\Adli\\Desktop\\ilegil\\bintangkecilmama\\satria-data-2025\\data\\test\\191.mp4\n",
      "100%|██████████| 3.56M/3.56M [00:00<00:00, 4.35MB/s]\n"
     ]
    },
    {
     "name": "stdout",
     "output_type": "stream",
     "text": [
      "Downloaded Google Drive file to data/test\\191.mp4\n"
     ]
    },
    {
     "name": "stderr",
     "output_type": "stream",
     "text": [
      "JSON Query to graphql/query: 403 Forbidden when accessing https://www.instagram.com/graphql/query [retrying; skip with ^C]\n"
     ]
    },
    {
     "name": "stdout",
     "output_type": "stream",
     "text": [
      "Downloaded video to data/test\\192.mp4\n"
     ]
    },
    {
     "name": "stderr",
     "output_type": "stream",
     "text": [
      "JSON Query to graphql/query: 403 Forbidden when accessing https://www.instagram.com/graphql/query [retrying; skip with ^C]\n"
     ]
    },
    {
     "name": "stdout",
     "output_type": "stream",
     "text": [
      "Downloaded video to data/test\\193.mp4\n"
     ]
    },
    {
     "name": "stderr",
     "output_type": "stream",
     "text": [
      "JSON Query to graphql/query: 403 Forbidden when accessing https://www.instagram.com/graphql/query [retrying; skip with ^C]\n"
     ]
    },
    {
     "name": "stdout",
     "output_type": "stream",
     "text": [
      "Downloaded video to data/test\\194.mp4\n"
     ]
    },
    {
     "name": "stderr",
     "output_type": "stream",
     "text": [
      "JSON Query to graphql/query: 403 Forbidden when accessing https://www.instagram.com/graphql/query [retrying; skip with ^C]\n"
     ]
    },
    {
     "name": "stdout",
     "output_type": "stream",
     "text": [
      "Downloaded video to data/test\\195.mp4\n"
     ]
    },
    {
     "name": "stderr",
     "output_type": "stream",
     "text": [
      "JSON Query to graphql/query: 403 Forbidden when accessing https://www.instagram.com/graphql/query [retrying; skip with ^C]\n"
     ]
    },
    {
     "name": "stdout",
     "output_type": "stream",
     "text": [
      "Downloaded video to data/test\\196.mp4\n"
     ]
    },
    {
     "name": "stderr",
     "output_type": "stream",
     "text": [
      "JSON Query to graphql/query: 403 Forbidden when accessing https://www.instagram.com/graphql/query [retrying; skip with ^C]\n"
     ]
    },
    {
     "name": "stdout",
     "output_type": "stream",
     "text": [
      "Downloaded video to data/test\\197.mp4\n"
     ]
    },
    {
     "name": "stderr",
     "output_type": "stream",
     "text": [
      "JSON Query to graphql/query: 403 Forbidden when accessing https://www.instagram.com/graphql/query [retrying; skip with ^C]\n"
     ]
    },
    {
     "name": "stdout",
     "output_type": "stream",
     "text": [
      "Downloaded video to data/test\\198.mp4\n"
     ]
    },
    {
     "name": "stderr",
     "output_type": "stream",
     "text": [
      "JSON Query to graphql/query: 403 Forbidden when accessing https://www.instagram.com/graphql/query [retrying; skip with ^C]\n"
     ]
    },
    {
     "name": "stdout",
     "output_type": "stream",
     "text": [
      "Downloaded video to data/test\\199.mp4\n"
     ]
    },
    {
     "name": "stderr",
     "output_type": "stream",
     "text": [
      "JSON Query to graphql/query: 403 Forbidden when accessing https://www.instagram.com/graphql/query [retrying; skip with ^C]\n"
     ]
    },
    {
     "name": "stdout",
     "output_type": "stream",
     "text": [
      "Downloaded video to data/test\\200.mp4\n"
     ]
    }
   ],
   "source": [
    "import os\n",
    "\n",
    "test_path = \"data/test\"\n",
    "os.makedirs(test_path, exist_ok=True)\n",
    "\n",
    "for i, row in test.iterrows():\n",
    "    target_path = os.path.join(test_path, f\"{row.id}.mp4\")\n",
    "\n",
    "    try:\n",
    "        if \"insta\" in row.video:\n",
    "            download_ig(row.video, target_path)\n",
    "        elif \"drive\" in row.video:\n",
    "            download_gdrive(row.video, target_path)\n",
    "        else:\n",
    "            print(f\"Unknown source: {row.video}\")\n",
    "            continue\n",
    "\n",
    "    except Exception as e:\n",
    "        print(f\"failed downloading {row.video} -> {row.id}.mp4 | {e}\")\n"
   ]
  },
  {
   "cell_type": "code",
   "execution_count": 38,
   "id": "9182c47b",
   "metadata": {},
   "outputs": [
    {
     "name": "stdout",
     "output_type": "stream",
     "text": [
      "563\n",
      "0.701120797011208\n"
     ]
    }
   ],
   "source": [
    "train_count = 0\n",
    "\n",
    "for f in os.listdir(train_path):\n",
    "    train_count += 1\n",
    "\n",
    "print(train_count)\n",
    "print(train_count / len(train))"
   ]
  },
  {
   "cell_type": "code",
   "execution_count": 39,
   "id": "6031e1f8",
   "metadata": {},
   "outputs": [
    {
     "name": "stdout",
     "output_type": "stream",
     "text": [
      "169\n",
      "0.845\n"
     ]
    }
   ],
   "source": [
    "test_count = 0\n",
    "\n",
    "for f in os.listdir(test_path):\n",
    "    test_count += 1\n",
    "\n",
    "print(test_count)\n",
    "print(test_count / len(test))"
   ]
  }
 ],
 "metadata": {
  "kernelspec": {
   "display_name": "venv",
   "language": "python",
   "name": "python3"
  },
  "language_info": {
   "codemirror_mode": {
    "name": "ipython",
    "version": 3
   },
   "file_extension": ".py",
   "mimetype": "text/x-python",
   "name": "python",
   "nbconvert_exporter": "python",
   "pygments_lexer": "ipython3",
   "version": "3.11.9"
  }
 },
 "nbformat": 4,
 "nbformat_minor": 5
}
